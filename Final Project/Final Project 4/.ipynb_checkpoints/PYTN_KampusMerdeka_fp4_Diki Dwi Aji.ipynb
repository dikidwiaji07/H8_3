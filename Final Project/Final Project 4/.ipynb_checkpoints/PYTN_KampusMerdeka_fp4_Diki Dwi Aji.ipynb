{
 "cells": [
  {
   "cell_type": "markdown",
   "id": "b9ab0e47",
   "metadata": {},
   "source": [
    "# Introduction\n",
    "\n",
    "Perkenalkan kami dari kelompok 3 kelas KS08 program Python for Data Science Kampus Merdeka x Hacktiv8. Sebelum masuk ke materi izinkan kami memperkenalkan kelompok kami terlebih dahulu :\n",
    "\n",
    "1. Fasal Alif Haikal Irawan\n",
    "2. Diki Dwi Aji\n",
    "3. Mely Sekhan\n",
    "\n",
    "Pada final project kali ini kami memilih untuk menggunakan dataset *Credit card* yang sudah disediakan oleh kode.id untuk ***mengelompokkan Class yang akan diberikan bank pada nasabah-nya*** yang ada didalam dataset tersebut. Terdapat *8950 rows* dan *18 columns* didalam dataset tersebut.\n",
    "\n",
    "Informasi tentang atribut yang ada dalam dataset tersebut sebagai berikut ini :\n",
    "1. custid - Identifikasi pemegang Kartu Kredit\n",
    "2. balance - Saldo jumlah yang tersisa di akun untuk melakukan pembelian\n",
    "3. balancefrequency - Seberapa sering Saldo diperbarui **(1 = frequently updated, 0 = not frequently updated)**\n",
    "4. purchases - Jumlah pembelian yang dilakukan dari akun\n",
    "5. oneoffpurchases - Jumlah pembelian maksimum dilakukan dalam sekali jalan\n",
    "6. installmentspurchases - Jumlah pembelian dilakukan secara cicilan\n",
    "7. cashadvance - Uang muka diberikan oleh pengguna\n",
    "8. purchasesfrequency - Seberapa sering Pembelian dilakukan **(1 = frequently updated, 0 = not frequently updated)**\n",
    "9. oneoffpurchasesfrequency - Seberapa sering Pembelian terjadi sekaligus **(1 = frequently updated, 0 = not frequently updated)**\n",
    "10. purchasesinstallmentsfrequency - Frekuensi Pembelian Angsuran **(1 = frequently updated, 0 = not frequently updated)**\n",
    "11. cashadvancefrequency - Seberapa sering uang muka dibayarkan\n",
    "12. cashadvanceTRX - Jumlah Transaksi yang dilakukan dengan \"Cash in Advance/Bayar dimuka\"\n",
    "13. purchasesTRX - Jumlah transaksi pembelian yang dilakukan\n",
    "14. creditlimit - Limit Kartu Kredit untuk pengguna\n",
    "15. payments - Jumlah Pembayaran yang dilakukan oleh pengguna\n",
    "16. minimum_payments - Jumlah minimum pembayaran yang dilakukan oleh pengguna\n",
    "17. PRCfullpayment - Persentase pembayaran penuh yang dibayarkan oleh pengguna\n",
    "18. tenure - Jangka waktu layanan kartu kredit untuk pengguna"
   ]
  },
  {
   "cell_type": "markdown",
   "id": "e188aa21",
   "metadata": {},
   "source": [
    "# Import Library"
   ]
  },
  {
   "cell_type": "markdown",
   "id": "2d52348f",
   "metadata": {},
   "source": [
    "Tahap awal selalu diawali dengan import library yang kita butuhkan untuk keperluan proses data heart_failure"
   ]
  },
  {
   "cell_type": "code",
   "execution_count": 1,
   "id": "101fdb38",
   "metadata": {},
   "outputs": [],
   "source": [
    "# Main Library\n",
    "import pandas as pd\n",
    "import numpy as np\n",
    "import seaborn as sns\n",
    "import matplotlib.pyplot as plt\n",
    "from sklearn import metrics\n",
    "from sklearn.metrics import confusion_matrix\n",
    "from sklearn.model_selection import train_test_split\n",
    "from sklearn.preprocessing import MinMaxScaler\n",
    "from sklearn.preprocessing import StandardScaler\n",
    "\n",
    "# Model Library\n",
    "from sklearn.linear_model import LogisticRegression\n",
    "from sklearn.neighbors import KNeighborsClassifier\n",
    "from sklearn import svm\n",
    "from sklearn.tree import DecisionTreeClassifier\n",
    "from sklearn.ensemble import RandomForestClassifier\n",
    "from sklearn.naive_bayes import GaussianNB\n",
    "\n",
    "from sklearn.decomposition import PCA\n",
    "from sklearn.cluster import KMeans"
   ]
  },
  {
   "cell_type": "markdown",
   "id": "4a720537",
   "metadata": {},
   "source": [
    "# Data Loading"
   ]
  },
  {
   "cell_type": "markdown",
   "id": "eecd5cfd",
   "metadata": {},
   "source": [
    "Setelah import library kita akan melihat secara sekilas tentang dataset Credit Card"
   ]
  },
  {
   "cell_type": "code",
   "execution_count": 2,
   "id": "b48ab373",
   "metadata": {},
   "outputs": [],
   "source": [
    "df_creditCard = pd.read_csv(\"CC GENERAL.csv\")"
   ]
  },
  {
   "cell_type": "code",
   "execution_count": 3,
   "id": "691bd6d4",
   "metadata": {},
   "outputs": [
    {
     "data": {
      "text/html": [
       "<div>\n",
       "<style scoped>\n",
       "    .dataframe tbody tr th:only-of-type {\n",
       "        vertical-align: middle;\n",
       "    }\n",
       "\n",
       "    .dataframe tbody tr th {\n",
       "        vertical-align: top;\n",
       "    }\n",
       "\n",
       "    .dataframe thead th {\n",
       "        text-align: right;\n",
       "    }\n",
       "</style>\n",
       "<table border=\"1\" class=\"dataframe\">\n",
       "  <thead>\n",
       "    <tr style=\"text-align: right;\">\n",
       "      <th></th>\n",
       "      <th>CUST_ID</th>\n",
       "      <th>BALANCE</th>\n",
       "      <th>BALANCE_FREQUENCY</th>\n",
       "      <th>PURCHASES</th>\n",
       "      <th>ONEOFF_PURCHASES</th>\n",
       "      <th>INSTALLMENTS_PURCHASES</th>\n",
       "      <th>CASH_ADVANCE</th>\n",
       "      <th>PURCHASES_FREQUENCY</th>\n",
       "      <th>ONEOFF_PURCHASES_FREQUENCY</th>\n",
       "      <th>PURCHASES_INSTALLMENTS_FREQUENCY</th>\n",
       "      <th>CASH_ADVANCE_FREQUENCY</th>\n",
       "      <th>CASH_ADVANCE_TRX</th>\n",
       "      <th>PURCHASES_TRX</th>\n",
       "      <th>CREDIT_LIMIT</th>\n",
       "      <th>PAYMENTS</th>\n",
       "      <th>MINIMUM_PAYMENTS</th>\n",
       "      <th>PRC_FULL_PAYMENT</th>\n",
       "      <th>TENURE</th>\n",
       "    </tr>\n",
       "  </thead>\n",
       "  <tbody>\n",
       "    <tr>\n",
       "      <th>0</th>\n",
       "      <td>C10001</td>\n",
       "      <td>40.900749</td>\n",
       "      <td>0.818182</td>\n",
       "      <td>95.40</td>\n",
       "      <td>0.00</td>\n",
       "      <td>95.40</td>\n",
       "      <td>0.000000</td>\n",
       "      <td>0.166667</td>\n",
       "      <td>0.000000</td>\n",
       "      <td>0.083333</td>\n",
       "      <td>0.000000</td>\n",
       "      <td>0</td>\n",
       "      <td>2</td>\n",
       "      <td>1000.0</td>\n",
       "      <td>201.802084</td>\n",
       "      <td>139.509787</td>\n",
       "      <td>0.000000</td>\n",
       "      <td>12</td>\n",
       "    </tr>\n",
       "    <tr>\n",
       "      <th>1</th>\n",
       "      <td>C10002</td>\n",
       "      <td>3202.467416</td>\n",
       "      <td>0.909091</td>\n",
       "      <td>0.00</td>\n",
       "      <td>0.00</td>\n",
       "      <td>0.00</td>\n",
       "      <td>6442.945483</td>\n",
       "      <td>0.000000</td>\n",
       "      <td>0.000000</td>\n",
       "      <td>0.000000</td>\n",
       "      <td>0.250000</td>\n",
       "      <td>4</td>\n",
       "      <td>0</td>\n",
       "      <td>7000.0</td>\n",
       "      <td>4103.032597</td>\n",
       "      <td>1072.340217</td>\n",
       "      <td>0.222222</td>\n",
       "      <td>12</td>\n",
       "    </tr>\n",
       "    <tr>\n",
       "      <th>2</th>\n",
       "      <td>C10003</td>\n",
       "      <td>2495.148862</td>\n",
       "      <td>1.000000</td>\n",
       "      <td>773.17</td>\n",
       "      <td>773.17</td>\n",
       "      <td>0.00</td>\n",
       "      <td>0.000000</td>\n",
       "      <td>1.000000</td>\n",
       "      <td>1.000000</td>\n",
       "      <td>0.000000</td>\n",
       "      <td>0.000000</td>\n",
       "      <td>0</td>\n",
       "      <td>12</td>\n",
       "      <td>7500.0</td>\n",
       "      <td>622.066742</td>\n",
       "      <td>627.284787</td>\n",
       "      <td>0.000000</td>\n",
       "      <td>12</td>\n",
       "    </tr>\n",
       "    <tr>\n",
       "      <th>3</th>\n",
       "      <td>C10004</td>\n",
       "      <td>1666.670542</td>\n",
       "      <td>0.636364</td>\n",
       "      <td>1499.00</td>\n",
       "      <td>1499.00</td>\n",
       "      <td>0.00</td>\n",
       "      <td>205.788017</td>\n",
       "      <td>0.083333</td>\n",
       "      <td>0.083333</td>\n",
       "      <td>0.000000</td>\n",
       "      <td>0.083333</td>\n",
       "      <td>1</td>\n",
       "      <td>1</td>\n",
       "      <td>7500.0</td>\n",
       "      <td>0.000000</td>\n",
       "      <td>NaN</td>\n",
       "      <td>0.000000</td>\n",
       "      <td>12</td>\n",
       "    </tr>\n",
       "    <tr>\n",
       "      <th>4</th>\n",
       "      <td>C10005</td>\n",
       "      <td>817.714335</td>\n",
       "      <td>1.000000</td>\n",
       "      <td>16.00</td>\n",
       "      <td>16.00</td>\n",
       "      <td>0.00</td>\n",
       "      <td>0.000000</td>\n",
       "      <td>0.083333</td>\n",
       "      <td>0.083333</td>\n",
       "      <td>0.000000</td>\n",
       "      <td>0.000000</td>\n",
       "      <td>0</td>\n",
       "      <td>1</td>\n",
       "      <td>1200.0</td>\n",
       "      <td>678.334763</td>\n",
       "      <td>244.791237</td>\n",
       "      <td>0.000000</td>\n",
       "      <td>12</td>\n",
       "    </tr>\n",
       "    <tr>\n",
       "      <th>...</th>\n",
       "      <td>...</td>\n",
       "      <td>...</td>\n",
       "      <td>...</td>\n",
       "      <td>...</td>\n",
       "      <td>...</td>\n",
       "      <td>...</td>\n",
       "      <td>...</td>\n",
       "      <td>...</td>\n",
       "      <td>...</td>\n",
       "      <td>...</td>\n",
       "      <td>...</td>\n",
       "      <td>...</td>\n",
       "      <td>...</td>\n",
       "      <td>...</td>\n",
       "      <td>...</td>\n",
       "      <td>...</td>\n",
       "      <td>...</td>\n",
       "      <td>...</td>\n",
       "    </tr>\n",
       "    <tr>\n",
       "      <th>8945</th>\n",
       "      <td>C19186</td>\n",
       "      <td>28.493517</td>\n",
       "      <td>1.000000</td>\n",
       "      <td>291.12</td>\n",
       "      <td>0.00</td>\n",
       "      <td>291.12</td>\n",
       "      <td>0.000000</td>\n",
       "      <td>1.000000</td>\n",
       "      <td>0.000000</td>\n",
       "      <td>0.833333</td>\n",
       "      <td>0.000000</td>\n",
       "      <td>0</td>\n",
       "      <td>6</td>\n",
       "      <td>1000.0</td>\n",
       "      <td>325.594462</td>\n",
       "      <td>48.886365</td>\n",
       "      <td>0.500000</td>\n",
       "      <td>6</td>\n",
       "    </tr>\n",
       "    <tr>\n",
       "      <th>8946</th>\n",
       "      <td>C19187</td>\n",
       "      <td>19.183215</td>\n",
       "      <td>1.000000</td>\n",
       "      <td>300.00</td>\n",
       "      <td>0.00</td>\n",
       "      <td>300.00</td>\n",
       "      <td>0.000000</td>\n",
       "      <td>1.000000</td>\n",
       "      <td>0.000000</td>\n",
       "      <td>0.833333</td>\n",
       "      <td>0.000000</td>\n",
       "      <td>0</td>\n",
       "      <td>6</td>\n",
       "      <td>1000.0</td>\n",
       "      <td>275.861322</td>\n",
       "      <td>NaN</td>\n",
       "      <td>0.000000</td>\n",
       "      <td>6</td>\n",
       "    </tr>\n",
       "    <tr>\n",
       "      <th>8947</th>\n",
       "      <td>C19188</td>\n",
       "      <td>23.398673</td>\n",
       "      <td>0.833333</td>\n",
       "      <td>144.40</td>\n",
       "      <td>0.00</td>\n",
       "      <td>144.40</td>\n",
       "      <td>0.000000</td>\n",
       "      <td>0.833333</td>\n",
       "      <td>0.000000</td>\n",
       "      <td>0.666667</td>\n",
       "      <td>0.000000</td>\n",
       "      <td>0</td>\n",
       "      <td>5</td>\n",
       "      <td>1000.0</td>\n",
       "      <td>81.270775</td>\n",
       "      <td>82.418369</td>\n",
       "      <td>0.250000</td>\n",
       "      <td>6</td>\n",
       "    </tr>\n",
       "    <tr>\n",
       "      <th>8948</th>\n",
       "      <td>C19189</td>\n",
       "      <td>13.457564</td>\n",
       "      <td>0.833333</td>\n",
       "      <td>0.00</td>\n",
       "      <td>0.00</td>\n",
       "      <td>0.00</td>\n",
       "      <td>36.558778</td>\n",
       "      <td>0.000000</td>\n",
       "      <td>0.000000</td>\n",
       "      <td>0.000000</td>\n",
       "      <td>0.166667</td>\n",
       "      <td>2</td>\n",
       "      <td>0</td>\n",
       "      <td>500.0</td>\n",
       "      <td>52.549959</td>\n",
       "      <td>55.755628</td>\n",
       "      <td>0.250000</td>\n",
       "      <td>6</td>\n",
       "    </tr>\n",
       "    <tr>\n",
       "      <th>8949</th>\n",
       "      <td>C19190</td>\n",
       "      <td>372.708075</td>\n",
       "      <td>0.666667</td>\n",
       "      <td>1093.25</td>\n",
       "      <td>1093.25</td>\n",
       "      <td>0.00</td>\n",
       "      <td>127.040008</td>\n",
       "      <td>0.666667</td>\n",
       "      <td>0.666667</td>\n",
       "      <td>0.000000</td>\n",
       "      <td>0.333333</td>\n",
       "      <td>2</td>\n",
       "      <td>23</td>\n",
       "      <td>1200.0</td>\n",
       "      <td>63.165404</td>\n",
       "      <td>88.288956</td>\n",
       "      <td>0.000000</td>\n",
       "      <td>6</td>\n",
       "    </tr>\n",
       "  </tbody>\n",
       "</table>\n",
       "<p>8950 rows × 18 columns</p>\n",
       "</div>"
      ],
      "text/plain": [
       "     CUST_ID      BALANCE  BALANCE_FREQUENCY  PURCHASES  ONEOFF_PURCHASES  \\\n",
       "0     C10001    40.900749           0.818182      95.40              0.00   \n",
       "1     C10002  3202.467416           0.909091       0.00              0.00   \n",
       "2     C10003  2495.148862           1.000000     773.17            773.17   \n",
       "3     C10004  1666.670542           0.636364    1499.00           1499.00   \n",
       "4     C10005   817.714335           1.000000      16.00             16.00   \n",
       "...      ...          ...                ...        ...               ...   \n",
       "8945  C19186    28.493517           1.000000     291.12              0.00   \n",
       "8946  C19187    19.183215           1.000000     300.00              0.00   \n",
       "8947  C19188    23.398673           0.833333     144.40              0.00   \n",
       "8948  C19189    13.457564           0.833333       0.00              0.00   \n",
       "8949  C19190   372.708075           0.666667    1093.25           1093.25   \n",
       "\n",
       "      INSTALLMENTS_PURCHASES  CASH_ADVANCE  PURCHASES_FREQUENCY  \\\n",
       "0                      95.40      0.000000             0.166667   \n",
       "1                       0.00   6442.945483             0.000000   \n",
       "2                       0.00      0.000000             1.000000   \n",
       "3                       0.00    205.788017             0.083333   \n",
       "4                       0.00      0.000000             0.083333   \n",
       "...                      ...           ...                  ...   \n",
       "8945                  291.12      0.000000             1.000000   \n",
       "8946                  300.00      0.000000             1.000000   \n",
       "8947                  144.40      0.000000             0.833333   \n",
       "8948                    0.00     36.558778             0.000000   \n",
       "8949                    0.00    127.040008             0.666667   \n",
       "\n",
       "      ONEOFF_PURCHASES_FREQUENCY  PURCHASES_INSTALLMENTS_FREQUENCY  \\\n",
       "0                       0.000000                          0.083333   \n",
       "1                       0.000000                          0.000000   \n",
       "2                       1.000000                          0.000000   \n",
       "3                       0.083333                          0.000000   \n",
       "4                       0.083333                          0.000000   \n",
       "...                          ...                               ...   \n",
       "8945                    0.000000                          0.833333   \n",
       "8946                    0.000000                          0.833333   \n",
       "8947                    0.000000                          0.666667   \n",
       "8948                    0.000000                          0.000000   \n",
       "8949                    0.666667                          0.000000   \n",
       "\n",
       "      CASH_ADVANCE_FREQUENCY  CASH_ADVANCE_TRX  PURCHASES_TRX  CREDIT_LIMIT  \\\n",
       "0                   0.000000                 0              2        1000.0   \n",
       "1                   0.250000                 4              0        7000.0   \n",
       "2                   0.000000                 0             12        7500.0   \n",
       "3                   0.083333                 1              1        7500.0   \n",
       "4                   0.000000                 0              1        1200.0   \n",
       "...                      ...               ...            ...           ...   \n",
       "8945                0.000000                 0              6        1000.0   \n",
       "8946                0.000000                 0              6        1000.0   \n",
       "8947                0.000000                 0              5        1000.0   \n",
       "8948                0.166667                 2              0         500.0   \n",
       "8949                0.333333                 2             23        1200.0   \n",
       "\n",
       "         PAYMENTS  MINIMUM_PAYMENTS  PRC_FULL_PAYMENT  TENURE  \n",
       "0      201.802084        139.509787          0.000000      12  \n",
       "1     4103.032597       1072.340217          0.222222      12  \n",
       "2      622.066742        627.284787          0.000000      12  \n",
       "3        0.000000               NaN          0.000000      12  \n",
       "4      678.334763        244.791237          0.000000      12  \n",
       "...           ...               ...               ...     ...  \n",
       "8945   325.594462         48.886365          0.500000       6  \n",
       "8946   275.861322               NaN          0.000000       6  \n",
       "8947    81.270775         82.418369          0.250000       6  \n",
       "8948    52.549959         55.755628          0.250000       6  \n",
       "8949    63.165404         88.288956          0.000000       6  \n",
       "\n",
       "[8950 rows x 18 columns]"
      ]
     },
     "execution_count": 3,
     "metadata": {},
     "output_type": "execute_result"
    }
   ],
   "source": [
    "df_creditCard"
   ]
  },
  {
   "cell_type": "markdown",
   "id": "4513dfb2",
   "metadata": {},
   "source": [
    "# Data Cleaning"
   ]
  },
  {
   "cell_type": "markdown",
   "id": "65ac0af4",
   "metadata": {},
   "source": [
    "Pada tahap ini, kita akan melihat apakah data credit card memiliki missing_value, data yang diduplikasi atau memiliki korelasi antara kolom satu dengan yang lainnya. hal ini diperlukan untuk memastikan saat membuat model nanti dan memberi latihan pada model, model tidak kebingungan dengan data yang missing atau duplikat atau korelasi."
   ]
  },
  {
   "cell_type": "code",
   "execution_count": 4,
   "id": "cdb59f7e",
   "metadata": {},
   "outputs": [
    {
     "data": {
      "text/plain": [
       "CUST_ID                               0\n",
       "BALANCE                               0\n",
       "BALANCE_FREQUENCY                     0\n",
       "PURCHASES                             0\n",
       "ONEOFF_PURCHASES                      0\n",
       "INSTALLMENTS_PURCHASES                0\n",
       "CASH_ADVANCE                          0\n",
       "PURCHASES_FREQUENCY                   0\n",
       "ONEOFF_PURCHASES_FREQUENCY            0\n",
       "PURCHASES_INSTALLMENTS_FREQUENCY      0\n",
       "CASH_ADVANCE_FREQUENCY                0\n",
       "CASH_ADVANCE_TRX                      0\n",
       "PURCHASES_TRX                         0\n",
       "CREDIT_LIMIT                          1\n",
       "PAYMENTS                              0\n",
       "MINIMUM_PAYMENTS                    313\n",
       "PRC_FULL_PAYMENT                      0\n",
       "TENURE                                0\n",
       "dtype: int64"
      ]
     },
     "execution_count": 4,
     "metadata": {},
     "output_type": "execute_result"
    }
   ],
   "source": [
    "df_creditCard.isna().sum()"
   ]
  },
  {
   "cell_type": "code",
   "execution_count": 5,
   "id": "91fa0c51",
   "metadata": {},
   "outputs": [],
   "source": [
    "df_creditCard['MINIMUM_PAYMENTS'].fillna(df_creditCard['MINIMUM_PAYMENTS'].mean(), inplace=True)"
   ]
  },
  {
   "cell_type": "markdown",
   "id": "74186b0f",
   "metadata": {},
   "source": [
    "Kita akan **mengubah data null** yang ada pada kolom *MINIMUM_PAYMENTS* dengan nilai median dari kolom tersebut."
   ]
  },
  {
   "cell_type": "code",
   "execution_count": 6,
   "id": "09ab54d1",
   "metadata": {},
   "outputs": [],
   "source": [
    "df_creditCard.dropna(subset=['CREDIT_LIMIT'], inplace=True)"
   ]
  },
  {
   "cell_type": "markdown",
   "id": "dd66e631",
   "metadata": {},
   "source": [
    "Data null pada CREDIT_LIMIT **hanya terdapat satu data kosong**, maka akan kita akan hapus satu kolom tersebut."
   ]
  },
  {
   "cell_type": "code",
   "execution_count": 7,
   "id": "2dbb9ffe",
   "metadata": {},
   "outputs": [
    {
     "data": {
      "text/plain": [
       "CUST_ID                             0\n",
       "BALANCE                             0\n",
       "BALANCE_FREQUENCY                   0\n",
       "PURCHASES                           0\n",
       "ONEOFF_PURCHASES                    0\n",
       "INSTALLMENTS_PURCHASES              0\n",
       "CASH_ADVANCE                        0\n",
       "PURCHASES_FREQUENCY                 0\n",
       "ONEOFF_PURCHASES_FREQUENCY          0\n",
       "PURCHASES_INSTALLMENTS_FREQUENCY    0\n",
       "CASH_ADVANCE_FREQUENCY              0\n",
       "CASH_ADVANCE_TRX                    0\n",
       "PURCHASES_TRX                       0\n",
       "CREDIT_LIMIT                        0\n",
       "PAYMENTS                            0\n",
       "MINIMUM_PAYMENTS                    0\n",
       "PRC_FULL_PAYMENT                    0\n",
       "TENURE                              0\n",
       "dtype: int64"
      ]
     },
     "execution_count": 7,
     "metadata": {},
     "output_type": "execute_result"
    }
   ],
   "source": [
    "df_creditCard.isna().sum()"
   ]
  },
  {
   "cell_type": "code",
   "execution_count": 8,
   "id": "fe4a9225",
   "metadata": {
    "scrolled": false
   },
   "outputs": [],
   "source": [
    "df_creditCard.drop(['CUST_ID', 'PURCHASES', 'ONEOFF_PURCHASES','INSTALLMENTS_PURCHASES','CASH_ADVANCE', 'CASH_ADVANCE_FREQUENCY', 'PAYMENTS', 'MINIMUM_PAYMENTS'], axis=1, inplace=True)"
   ]
  },
  {
   "cell_type": "code",
   "execution_count": 9,
   "id": "f1401262",
   "metadata": {
    "scrolled": false
   },
   "outputs": [
    {
     "data": {
      "image/png": "[encoded data removed]",
      "text/plain": [
       "<Figure size 864x864 with 2 Axes>"
      ]
     },
     "metadata": {
      "needs_background": "light"
     },
     "output_type": "display_data"
    }
   ],
   "source": [
    "plt.figure(figsize=(12,12))\n",
    "sns.heatmap(df_creditCard.corr(), annot=True)\n",
    "plt.show()"
   ]
  },
  {
   "cell_type": "code",
   "execution_count": 10,
   "id": "a6d2d43b",
   "metadata": {
    "scrolled": false
   },
   "outputs": [
    {
     "data": {
      "text/html": [
       "<div>\n",
       "<style scoped>\n",
       "    .dataframe tbody tr th:only-of-type {\n",
       "        vertical-align: middle;\n",
       "    }\n",
       "\n",
       "    .dataframe tbody tr th {\n",
       "        vertical-align: top;\n",
       "    }\n",
       "\n",
       "    .dataframe thead th {\n",
       "        text-align: right;\n",
       "    }\n",
       "</style>\n",
       "<table border=\"1\" class=\"dataframe\">\n",
       "  <thead>\n",
       "    <tr style=\"text-align: right;\">\n",
       "      <th></th>\n",
       "      <th>BALANCE</th>\n",
       "      <th>BALANCE_FREQUENCY</th>\n",
       "      <th>PURCHASES_FREQUENCY</th>\n",
       "      <th>ONEOFF_PURCHASES_FREQUENCY</th>\n",
       "      <th>PURCHASES_INSTALLMENTS_FREQUENCY</th>\n",
       "      <th>CASH_ADVANCE_TRX</th>\n",
       "      <th>PURCHASES_TRX</th>\n",
       "      <th>CREDIT_LIMIT</th>\n",
       "      <th>PRC_FULL_PAYMENT</th>\n",
       "      <th>TENURE</th>\n",
       "    </tr>\n",
       "  </thead>\n",
       "  <tbody>\n",
       "    <tr>\n",
       "      <th>0</th>\n",
       "      <td>40.900749</td>\n",
       "      <td>0.818182</td>\n",
       "      <td>0.166667</td>\n",
       "      <td>0.000000</td>\n",
       "      <td>0.083333</td>\n",
       "      <td>0</td>\n",
       "      <td>2</td>\n",
       "      <td>1000.0</td>\n",
       "      <td>0.000000</td>\n",
       "      <td>12</td>\n",
       "    </tr>\n",
       "    <tr>\n",
       "      <th>1</th>\n",
       "      <td>3202.467416</td>\n",
       "      <td>0.909091</td>\n",
       "      <td>0.000000</td>\n",
       "      <td>0.000000</td>\n",
       "      <td>0.000000</td>\n",
       "      <td>4</td>\n",
       "      <td>0</td>\n",
       "      <td>7000.0</td>\n",
       "      <td>0.222222</td>\n",
       "      <td>12</td>\n",
       "    </tr>\n",
       "    <tr>\n",
       "      <th>2</th>\n",
       "      <td>2495.148862</td>\n",
       "      <td>1.000000</td>\n",
       "      <td>1.000000</td>\n",
       "      <td>1.000000</td>\n",
       "      <td>0.000000</td>\n",
       "      <td>0</td>\n",
       "      <td>12</td>\n",
       "      <td>7500.0</td>\n",
       "      <td>0.000000</td>\n",
       "      <td>12</td>\n",
       "    </tr>\n",
       "    <tr>\n",
       "      <th>3</th>\n",
       "      <td>1666.670542</td>\n",
       "      <td>0.636364</td>\n",
       "      <td>0.083333</td>\n",
       "      <td>0.083333</td>\n",
       "      <td>0.000000</td>\n",
       "      <td>1</td>\n",
       "      <td>1</td>\n",
       "      <td>7500.0</td>\n",
       "      <td>0.000000</td>\n",
       "      <td>12</td>\n",
       "    </tr>\n",
       "    <tr>\n",
       "      <th>4</th>\n",
       "      <td>817.714335</td>\n",
       "      <td>1.000000</td>\n",
       "      <td>0.083333</td>\n",
       "      <td>0.083333</td>\n",
       "      <td>0.000000</td>\n",
       "      <td>0</td>\n",
       "      <td>1</td>\n",
       "      <td>1200.0</td>\n",
       "      <td>0.000000</td>\n",
       "      <td>12</td>\n",
       "    </tr>\n",
       "  </tbody>\n",
       "</table>\n",
       "</div>"
      ],
      "text/plain": [
       "       BALANCE  BALANCE_FREQUENCY  PURCHASES_FREQUENCY  \\\n",
       "0    40.900749           0.818182             0.166667   \n",
       "1  3202.467416           0.909091             0.000000   \n",
       "2  2495.148862           1.000000             1.000000   \n",
       "3  1666.670542           0.636364             0.083333   \n",
       "4   817.714335           1.000000             0.083333   \n",
       "\n",
       "   ONEOFF_PURCHASES_FREQUENCY  PURCHASES_INSTALLMENTS_FREQUENCY  \\\n",
       "0                    0.000000                          0.083333   \n",
       "1                    0.000000                          0.000000   \n",
       "2                    1.000000                          0.000000   \n",
       "3                    0.083333                          0.000000   \n",
       "4                    0.083333                          0.000000   \n",
       "\n",
       "   CASH_ADVANCE_TRX  PURCHASES_TRX  CREDIT_LIMIT  PRC_FULL_PAYMENT  TENURE  \n",
       "0                 0              2        1000.0          0.000000      12  \n",
       "1                 4              0        7000.0          0.222222      12  \n",
       "2                 0             12        7500.0          0.000000      12  \n",
       "3                 1              1        7500.0          0.000000      12  \n",
       "4                 0              1        1200.0          0.000000      12  "
      ]
     },
     "execution_count": 10,
     "metadata": {},
     "output_type": "execute_result"
    }
   ],
   "source": [
    "df_creditCard.head()"
   ]
  },
  {
   "cell_type": "markdown",
   "id": "94671edf",
   "metadata": {},
   "source": [
    "Seperti yang kita lihat tidak ada missing value, data tidak memiliki korelasi dengan kolom lain, dan tidak ada data yang duplikat berarti data Credit Card aman untuk kita eksplorasi data-nya."
   ]
  },
  {
   "cell_type": "markdown",
   "id": "ec70d4c8",
   "metadata": {},
   "source": [
    "# Exploration Data"
   ]
  },
  {
   "cell_type": "markdown",
   "id": "b5a62a22",
   "metadata": {},
   "source": [
    "Kita akan mulai tahap selanjutnya, yaitu mengekplorasi data dari Credit card untuk mendapatkan insight tentang data tersebut."
   ]
  },
  {
   "cell_type": "code",
   "execution_count": 11,
   "id": "74f182eb",
   "metadata": {
    "scrolled": true
   },
   "outputs": [
    {
     "data": {
      "text/plain": [
       "(8949, 10)"
      ]
     },
     "execution_count": 11,
     "metadata": {},
     "output_type": "execute_result"
    }
   ],
   "source": [
    "df_creditCard.shape"
   ]
  },
  {
   "cell_type": "code",
   "execution_count": 12,
   "id": "e3ee7435",
   "metadata": {},
   "outputs": [
    {
     "data": {
      "text/plain": [
       "Index(['BALANCE', 'BALANCE_FREQUENCY', 'PURCHASES_FREQUENCY',\n",
       "       'ONEOFF_PURCHASES_FREQUENCY', 'PURCHASES_INSTALLMENTS_FREQUENCY',\n",
       "       'CASH_ADVANCE_TRX', 'PURCHASES_TRX', 'CREDIT_LIMIT', 'PRC_FULL_PAYMENT',\n",
       "       'TENURE'],\n",
       "      dtype='object')"
      ]
     },
     "execution_count": 12,
     "metadata": {},
     "output_type": "execute_result"
    }
   ],
   "source": [
    "df_creditCard.columns"
   ]
  },
  {
   "cell_type": "code",
   "execution_count": 13,
   "id": "7072f37c",
   "metadata": {
    "scrolled": false
   },
   "outputs": [
    {
     "name": "stdout",
     "output_type": "stream",
     "text": [
      "<class 'pandas.core.frame.DataFrame'>\n",
      "Int64Index: 8949 entries, 0 to 8949\n",
      "Data columns (total 10 columns):\n",
      " #   Column                            Non-Null Count  Dtype  \n",
      "---  ------                            --------------  -----  \n",
      " 0   BALANCE                           8949 non-null   float64\n",
      " 1   BALANCE_FREQUENCY                 8949 non-null   float64\n",
      " 2   PURCHASES_FREQUENCY               8949 non-null   float64\n",
      " 3   ONEOFF_PURCHASES_FREQUENCY        8949 non-null   float64\n",
      " 4   PURCHASES_INSTALLMENTS_FREQUENCY  8949 non-null   float64\n",
      " 5   CASH_ADVANCE_TRX                  8949 non-null   int64  \n",
      " 6   PURCHASES_TRX                     8949 non-null   int64  \n",
      " 7   CREDIT_LIMIT                      8949 non-null   float64\n",
      " 8   PRC_FULL_PAYMENT                  8949 non-null   float64\n",
      " 9   TENURE                            8949 non-null   int64  \n",
      "dtypes: float64(7), int64(3)\n",
      "memory usage: 769.1 KB\n"
     ]
    }
   ],
   "source": [
    "df_creditCard.info()"
   ]
  },
  {
   "cell_type": "code",
   "execution_count": 14,
   "id": "3fb58890",
   "metadata": {},
   "outputs": [
    {
     "data": {
      "text/plain": [
       "12    7584\n",
       "11     365\n",
       "10     236\n",
       "6      203\n",
       "8      196\n",
       "7      190\n",
       "9      175\n",
       "Name: TENURE, dtype: int64"
      ]
     },
     "execution_count": 14,
     "metadata": {},
     "output_type": "execute_result"
    }
   ],
   "source": [
    "df_creditCard['TENURE'].value_counts()"
   ]
  },
  {
   "cell_type": "code",
   "execution_count": 15,
   "id": "3eaa7edc",
   "metadata": {
    "scrolled": false
   },
   "outputs": [
    {
     "data": {
      "image/png": "[encoded data removed]",
      "text/plain": [
       "<Figure size 432x288 with 1 Axes>"
      ]
     },
     "metadata": {
      "needs_background": "light"
     },
     "output_type": "display_data"
    }
   ],
   "source": [
    "sns.countplot(x='TENURE', data=df_creditCard, palette='hls')\n",
    "plt.show()"
   ]
  },
  {
   "cell_type": "code",
   "execution_count": 16,
   "id": "2e70de91",
   "metadata": {},
   "outputs": [
    {
     "data": {
      "image/png": "[encoded data removed]",
      "text/plain": [
       "<Figure size 720x1080 with 18 Axes>"
      ]
     },
     "metadata": {
      "needs_background": "light"
     },
     "output_type": "display_data"
    }
   ],
   "source": [
    "df_creditCard.hist(bins=13, figsize=(10,15), layout=(6,3));"
   ]
  },
  {
   "cell_type": "markdown",
   "id": "4727452c",
   "metadata": {},
   "source": [
    "Visualisasi diatas berisi seluruh data yang ada pada dataset Credit card dengan menggunakan Histogram"
   ]
  },
  {
   "cell_type": "markdown",
   "id": "47efcdfc",
   "metadata": {},
   "source": [
    "# Data Preprocessing"
   ]
  },
  {
   "cell_type": "markdown",
   "id": "d878e494",
   "metadata": {},
   "source": [
    "## Normalisasi data"
   ]
  },
  {
   "cell_type": "markdown",
   "id": "7cb1dac3",
   "metadata": {},
   "source": [
    "Normalisasi pada dataset memiliki fungsi **agar nilai data menjadi seimbang**, karena jika terdapat nilai yang terlalu besar akan memiliki dampak pada proses pengolahan data."
   ]
  },
  {
   "cell_type": "code",
   "execution_count": 17,
   "id": "abab58ef",
   "metadata": {},
   "outputs": [
    {
     "data": {
      "text/plain": [
       "array([[0.00214779, 0.818182  , 0.166667  , 0.        , 0.083333  ,\n",
       "        0.        , 0.00558659, 0.03171953, 0.        , 1.        ],\n",
       "       [0.1681691 , 0.909091  , 0.        , 0.        , 0.        ,\n",
       "        0.03252033, 0.        , 0.23205342, 0.222222  , 1.        ],\n",
       "       [0.13102614, 1.        , 1.        , 1.        , 0.        ,\n",
       "        0.        , 0.03351955, 0.24874791, 0.        , 1.        ],\n",
       "       [0.08752079, 0.636364  , 0.083333  , 0.083333  , 0.        ,\n",
       "        0.00813008, 0.0027933 , 0.24874791, 0.        , 1.        ],\n",
       "       [0.0429401 , 1.        , 0.083333  , 0.083333  , 0.        ,\n",
       "        0.        , 0.0027933 , 0.03839733, 0.        , 1.        ]])"
      ]
     },
     "execution_count": 17,
     "metadata": {},
     "output_type": "execute_result"
    }
   ],
   "source": [
    "mm_scaler = MinMaxScaler()  \n",
    "x = mm_scaler.fit_transform(df_creditCard)\n",
    "x[: 5]"
   ]
  },
  {
   "cell_type": "markdown",
   "id": "53e3f0de",
   "metadata": {},
   "source": [
    "# Model Defining"
   ]
  },
  {
   "cell_type": "markdown",
   "id": "f378e8b4",
   "metadata": {},
   "source": [
    "Selanjutnya kita akan mengurangi dimensi dengan membentuk variabel-variabel baru yang disebut Principal Components dengan dataset yang sudah dinormalisasi"
   ]
  },
  {
   "cell_type": "code",
   "execution_count": 18,
   "id": "dfaf35ab",
   "metadata": {},
   "outputs": [],
   "source": [
    "pca = PCA(n_components=3)\n",
    "components = pca.fit_transform(x)\n",
    "pca_data = pd.DataFrame(data=components,\n",
    "                        columns=['Component 1', 'Component 2', 'Component 3'])"
   ]
  },
  {
   "cell_type": "code",
   "execution_count": 19,
   "id": "a7b21b75",
   "metadata": {},
   "outputs": [
    {
     "name": "stdout",
     "output_type": "stream",
     "text": [
      "[0.51448441 0.14560735 0.13249986]\n",
      "Total informasi dari 3 Component=  0.7925916214865141\n"
     ]
    }
   ],
   "source": [
    "print(pca.explained_variance_ratio_)\n",
    "\n",
    "print(\"Total informasi dari 3 Component= \", sum(pca.explained_variance_ratio_))"
   ]
  },
  {
   "cell_type": "markdown",
   "id": "58c48580",
   "metadata": {},
   "source": [
    "Metode diatas digunakan untuk mendapatkan rasio varians. Jadi pada \n",
    "\n",
    "**PCA 1** itu memiliki nilai varians sebanyak **51% dari 100%**, dan \n",
    "\n",
    "**PCA 2** memiliki nilai **14% dari 100%**. \n",
    "\n",
    "**PCA 3** memiliki nilai **13% dari 100%**. \n",
    "\n",
    "*Sehingga jika di jumlahkan ketiga-nya* memiliki sekitar **79% dari 100%**."
   ]
  },
  {
   "cell_type": "code",
   "execution_count": 20,
   "id": "2985320f",
   "metadata": {
    "scrolled": false
   },
   "outputs": [
    {
     "data": {
      "text/html": [
       "<div>\n",
       "<style scoped>\n",
       "    .dataframe tbody tr th:only-of-type {\n",
       "        vertical-align: middle;\n",
       "    }\n",
       "\n",
       "    .dataframe tbody tr th {\n",
       "        vertical-align: top;\n",
       "    }\n",
       "\n",
       "    .dataframe thead th {\n",
       "        text-align: right;\n",
       "    }\n",
       "</style>\n",
       "<table border=\"1\" class=\"dataframe\">\n",
       "  <thead>\n",
       "    <tr style=\"text-align: right;\">\n",
       "      <th></th>\n",
       "      <th>Component 1</th>\n",
       "      <th>Component 2</th>\n",
       "      <th>Component 3</th>\n",
       "    </tr>\n",
       "  </thead>\n",
       "  <tbody>\n",
       "    <tr>\n",
       "      <th>0</th>\n",
       "      <td>-0.489748</td>\n",
       "      <td>-0.090449</td>\n",
       "      <td>-0.063628</td>\n",
       "    </tr>\n",
       "    <tr>\n",
       "      <th>1</th>\n",
       "      <td>-0.602790</td>\n",
       "      <td>-0.022927</td>\n",
       "      <td>0.092069</td>\n",
       "    </tr>\n",
       "    <tr>\n",
       "      <th>2</th>\n",
       "      <td>0.299511</td>\n",
       "      <td>0.933222</td>\n",
       "      <td>-0.045580</td>\n",
       "    </tr>\n",
       "    <tr>\n",
       "      <th>3</th>\n",
       "      <td>-0.594255</td>\n",
       "      <td>-0.001343</td>\n",
       "      <td>0.020187</td>\n",
       "    </tr>\n",
       "    <tr>\n",
       "      <th>4</th>\n",
       "      <td>-0.561836</td>\n",
       "      <td>0.057839</td>\n",
       "      <td>-0.106746</td>\n",
       "    </tr>\n",
       "  </tbody>\n",
       "</table>\n",
       "</div>"
      ],
      "text/plain": [
       "   Component 1  Component 2  Component 3\n",
       "0    -0.489748    -0.090449    -0.063628\n",
       "1    -0.602790    -0.022927     0.092069\n",
       "2     0.299511     0.933222    -0.045580\n",
       "3    -0.594255    -0.001343     0.020187\n",
       "4    -0.561836     0.057839    -0.106746"
      ]
     },
     "execution_count": 20,
     "metadata": {},
     "output_type": "execute_result"
    }
   ],
   "source": [
    "pca_data.head()"
   ]
  },
  {
   "cell_type": "markdown",
   "id": "84f2335d",
   "metadata": {},
   "source": [
    "Kita dapat melihat detail data-nya dengan mengakses *pca_data*"
   ]
  },
  {
   "cell_type": "markdown",
   "id": "2bdc0ab9",
   "metadata": {},
   "source": [
    "Sekarang kita telah mengurangi atribut menjadi 3 dimensi, kita akan melakukan pengelompokan dengan **elbow method**\n",
    "\n",
    "Langkah-langkah yang dilakukan dalam Clustering\n",
    "\n",
    "* Metode Elbow untuk menentukan jumlah cluster yang akan dibentuk\n",
    "* Memeriksa cluster yang terbentuk melalui scatter plot"
   ]
  },
  {
   "cell_type": "code",
   "execution_count": 21,
   "id": "e73ad8de",
   "metadata": {
    "scrolled": false
   },
   "outputs": [
    {
     "name": "stdout",
     "output_type": "stream",
     "text": [
      "Metode Elbow untuk menentukan jumlah cluster yang akan dibentuk:\n"
     ]
    },
    {
     "data": {
      "image/png": "[encoded data removed]",
      "text/plain": [
       "<Figure size 576x396 with 2 Axes>"
      ]
     },
     "metadata": {},
     "output_type": "display_data"
    },
    {
     "data": {
      "text/plain": [
       "<AxesSubplot:title={'center':'Distortion Score Elbow for KMeans Clustering'}, xlabel='k', ylabel='distortion score'>"
      ]
     },
     "execution_count": 21,
     "metadata": {},
     "output_type": "execute_result"
    }
   ],
   "source": [
    "from yellowbrick.cluster import KElbowVisualizer\n",
    "\n",
    "# Quick examination of elbow method to find numbers of clusters to make.\n",
    "print('Metode Elbow untuk menentukan jumlah cluster yang akan dibentuk:')\n",
    "Elb = KElbowVisualizer(KMeans(), k=10)\n",
    "Elb.fit(pca_data)\n",
    "Elb.show()"
   ]
  },
  {
   "cell_type": "markdown",
   "id": "a129e16f",
   "metadata": {},
   "source": [
    "Berdasarkan visualisasi elbow method, Nilai K paling optimal adalah 5. Dengan begitu, jumlah cluster terbentuk sebanyak 5"
   ]
  },
  {
   "cell_type": "markdown",
   "id": "735d2cde",
   "metadata": {},
   "source": [
    "# Model Training "
   ]
  },
  {
   "cell_type": "code",
   "execution_count": 22,
   "id": "4f0655bf",
   "metadata": {},
   "outputs": [],
   "source": [
    "# Mendefinisikan model kmeans dengan jumlah klaster sebanyak 5\n",
    "kmeans = KMeans(n_clusters=5, n_init=10, init= 'k-means++', algorithm='lloyd', max_iter=300)"
   ]
  },
  {
   "cell_type": "code",
   "execution_count": 23,
   "id": "bffe16f5",
   "metadata": {},
   "outputs": [
    {
     "data": {
      "text/plain": [
       "(5, 10)"
      ]
     },
     "execution_count": 23,
     "metadata": {},
     "output_type": "execute_result"
    }
   ],
   "source": [
    "kmeans.fit(x)\n",
    "labels = kmeans.labels_\n",
    "kmeans.cluster_centers_.shape"
   ]
  },
  {
   "cell_type": "code",
   "execution_count": 24,
   "id": "a1cb2ab2",
   "metadata": {},
   "outputs": [],
   "source": [
    "y_kmeans= kmeans.fit_predict(pca_data)\n",
    "\n",
    "labels = kmeans.labels_\n",
    "\n",
    "cluster = kmeans.cluster_centers_\n",
    "centroids = np.array(cluster)\n",
    "\n",
    "\n",
    "df_creditCard['Class'] = labels; pca_data['Class'] = labels"
   ]
  },
  {
   "cell_type": "code",
   "execution_count": 25,
   "id": "98361255",
   "metadata": {
    "scrolled": false
   },
   "outputs": [
    {
     "data": {
      "image/png": "[encoded data removed]",
      "text/plain": [
       "<Figure size 576x396 with 1 Axes>"
      ]
     },
     "metadata": {},
     "output_type": "display_data"
    }
   ],
   "source": [
    "sns.countplot(x='Class', data=df_creditCard, palette='hls')\n",
    "plt.show()"
   ]
  },
  {
   "cell_type": "markdown",
   "id": "7af35624",
   "metadata": {},
   "source": [
    "# Model Evaluation"
   ]
  },
  {
   "cell_type": "code",
   "execution_count": 26,
   "id": "8a1825f5",
   "metadata": {
    "scrolled": true
   },
   "outputs": [
    {
     "data": {
      "image/png": "[encoded data removed]",
      "text/plain": [
       "<Figure size 1080x360 with 2 Axes>"
      ]
     },
     "metadata": {},
     "output_type": "display_data"
    }
   ],
   "source": [
    "fig, ax = plt.subplots(nrows = 1, ncols = 2, figsize = (15,5))\n",
    "\n",
    "plt.subplot(1,2,1)\n",
    "sns.boxplot(x = 'Class', y = 'BALANCE', data  = df_creditCard, color = 'coral');\n",
    "plt.title('BALANCE vs Class')\n",
    "\n",
    "plt.subplot(1,2,2)\n",
    "sns.boxplot(x = 'Class', y = 'CREDIT_LIMIT', data  = df_creditCard, color = 'skyblue');\n",
    "plt.title('CREDIT_LIMIT vs Class')\n",
    "\n",
    "plt.show()"
   ]
  },
  {
   "cell_type": "markdown",
   "id": "2e0155a1",
   "metadata": {},
   "source": [
    "Perbandingan antara balance vs class dan credit_limit vs class, menghasilkan informasi bahwa semakin tinggi balance suatu class, maka credit_limit juga akan semakin tinggi juga.\n",
    "\n",
    "Sehingga kesimpulannya adalah\n",
    "\n",
    "* kelas 0, limit kredit pengguna paling rendah & Pengguna sangat jarang memperbaharui isi saldo\n",
    "\n",
    "* kelas 1, limit kredit pengguna rendah  & Pengguna  jarang memperbaharui isi saldo\n",
    "\n",
    "* kelas 2, limit kredit pengguna rata-rata & Pengguna cukup sering memperbaharui isi saldo\n",
    "\n",
    "* kelas 3, limit kredit pengguna tinggi & Pengguna sering memperbaharui isi saldo\n",
    "\n",
    "* kelas 4, limit kredit pengguna paling tinggi & Pengguna sangat sering memperbaharui isi saldo"
   ]
  },
  {
   "cell_type": "code",
   "execution_count": 27,
   "id": "892af31d",
   "metadata": {},
   "outputs": [
    {
     "name": "stdout",
     "output_type": "stream",
     "text": [
      "Model Berhasil di Export!\n"
     ]
    }
   ],
   "source": [
    "import pickle\n",
    "pickle.dump(kmeans, open('./model/model_FP4.pkl', 'wb'))\n",
    "print(\"Model Berhasil di Export!\")"
   ]
  },
  {
   "cell_type": "code",
   "execution_count": 53,
   "id": "b52eaea4",
   "metadata": {},
   "outputs": [
    {
     "name": "stdout",
     "output_type": "stream",
     "text": [
      "Model Berhasil di import!\n"
     ]
    }
   ],
   "source": [
    "k_means_model = pickle.load(open(\"./model/model_FP4.pkl\", \"rb\"))\n",
    "print(\"Model Berhasil di import!\")"
   ]
  },
  {
   "cell_type": "markdown",
   "id": "3f0a908a",
   "metadata": {},
   "source": [
    "# Model Inference"
   ]
  },
  {
   "cell_type": "markdown",
   "id": "21db4a0a",
   "metadata": {},
   "source": [
    "Selanjutnya akan kita coba model yang sudah kita buat dengan dataset lain. disini kita memakai dataset diabetes untuk percobaan-nya."
   ]
  },
  {
   "cell_type": "markdown",
   "id": "68bc3192",
   "metadata": {},
   "source": [
    "## Data loading "
   ]
  },
  {
   "cell_type": "code",
   "execution_count": 57,
   "id": "08e5a2f4",
   "metadata": {},
   "outputs": [
    {
     "data": {
      "text/html": [
       "<div>\n",
       "<style scoped>\n",
       "    .dataframe tbody tr th:only-of-type {\n",
       "        vertical-align: middle;\n",
       "    }\n",
       "\n",
       "    .dataframe tbody tr th {\n",
       "        vertical-align: top;\n",
       "    }\n",
       "\n",
       "    .dataframe thead th {\n",
       "        text-align: right;\n",
       "    }\n",
       "</style>\n",
       "<table border=\"1\" class=\"dataframe\">\n",
       "  <thead>\n",
       "    <tr style=\"text-align: right;\">\n",
       "      <th></th>\n",
       "      <th>Alcohol</th>\n",
       "      <th>Malic_Acid</th>\n",
       "      <th>Ash</th>\n",
       "      <th>Ash_Alcanity</th>\n",
       "      <th>Magnesium</th>\n",
       "      <th>Total_Phenols</th>\n",
       "      <th>Flavanoids</th>\n",
       "      <th>Nonflavanoid_Phenols</th>\n",
       "      <th>Proanthocyanins</th>\n",
       "      <th>Color_Intensity</th>\n",
       "      <th>Hue</th>\n",
       "      <th>OD280</th>\n",
       "      <th>Proline</th>\n",
       "    </tr>\n",
       "  </thead>\n",
       "  <tbody>\n",
       "    <tr>\n",
       "      <th>0</th>\n",
       "      <td>14.23</td>\n",
       "      <td>1.71</td>\n",
       "      <td>2.43</td>\n",
       "      <td>15.6</td>\n",
       "      <td>127</td>\n",
       "      <td>2.80</td>\n",
       "      <td>3.06</td>\n",
       "      <td>0.28</td>\n",
       "      <td>2.29</td>\n",
       "      <td>5.64</td>\n",
       "      <td>1.04</td>\n",
       "      <td>3.92</td>\n",
       "      <td>1065</td>\n",
       "    </tr>\n",
       "    <tr>\n",
       "      <th>1</th>\n",
       "      <td>13.20</td>\n",
       "      <td>1.78</td>\n",
       "      <td>2.14</td>\n",
       "      <td>11.2</td>\n",
       "      <td>100</td>\n",
       "      <td>2.65</td>\n",
       "      <td>2.76</td>\n",
       "      <td>0.26</td>\n",
       "      <td>1.28</td>\n",
       "      <td>4.38</td>\n",
       "      <td>1.05</td>\n",
       "      <td>3.40</td>\n",
       "      <td>1050</td>\n",
       "    </tr>\n",
       "    <tr>\n",
       "      <th>2</th>\n",
       "      <td>13.16</td>\n",
       "      <td>2.36</td>\n",
       "      <td>2.67</td>\n",
       "      <td>18.6</td>\n",
       "      <td>101</td>\n",
       "      <td>2.80</td>\n",
       "      <td>3.24</td>\n",
       "      <td>0.30</td>\n",
       "      <td>2.81</td>\n",
       "      <td>5.68</td>\n",
       "      <td>1.03</td>\n",
       "      <td>3.17</td>\n",
       "      <td>1185</td>\n",
       "    </tr>\n",
       "    <tr>\n",
       "      <th>3</th>\n",
       "      <td>14.37</td>\n",
       "      <td>1.95</td>\n",
       "      <td>2.50</td>\n",
       "      <td>16.8</td>\n",
       "      <td>113</td>\n",
       "      <td>3.85</td>\n",
       "      <td>3.49</td>\n",
       "      <td>0.24</td>\n",
       "      <td>2.18</td>\n",
       "      <td>7.80</td>\n",
       "      <td>0.86</td>\n",
       "      <td>3.45</td>\n",
       "      <td>1480</td>\n",
       "    </tr>\n",
       "    <tr>\n",
       "      <th>4</th>\n",
       "      <td>13.24</td>\n",
       "      <td>2.59</td>\n",
       "      <td>2.87</td>\n",
       "      <td>21.0</td>\n",
       "      <td>118</td>\n",
       "      <td>2.80</td>\n",
       "      <td>2.69</td>\n",
       "      <td>0.39</td>\n",
       "      <td>1.82</td>\n",
       "      <td>4.32</td>\n",
       "      <td>1.04</td>\n",
       "      <td>2.93</td>\n",
       "      <td>735</td>\n",
       "    </tr>\n",
       "    <tr>\n",
       "      <th>...</th>\n",
       "      <td>...</td>\n",
       "      <td>...</td>\n",
       "      <td>...</td>\n",
       "      <td>...</td>\n",
       "      <td>...</td>\n",
       "      <td>...</td>\n",
       "      <td>...</td>\n",
       "      <td>...</td>\n",
       "      <td>...</td>\n",
       "      <td>...</td>\n",
       "      <td>...</td>\n",
       "      <td>...</td>\n",
       "      <td>...</td>\n",
       "    </tr>\n",
       "    <tr>\n",
       "      <th>173</th>\n",
       "      <td>13.71</td>\n",
       "      <td>5.65</td>\n",
       "      <td>2.45</td>\n",
       "      <td>20.5</td>\n",
       "      <td>95</td>\n",
       "      <td>1.68</td>\n",
       "      <td>0.61</td>\n",
       "      <td>0.52</td>\n",
       "      <td>1.06</td>\n",
       "      <td>7.70</td>\n",
       "      <td>0.64</td>\n",
       "      <td>1.74</td>\n",
       "      <td>740</td>\n",
       "    </tr>\n",
       "    <tr>\n",
       "      <th>174</th>\n",
       "      <td>13.40</td>\n",
       "      <td>3.91</td>\n",
       "      <td>2.48</td>\n",
       "      <td>23.0</td>\n",
       "      <td>102</td>\n",
       "      <td>1.80</td>\n",
       "      <td>0.75</td>\n",
       "      <td>0.43</td>\n",
       "      <td>1.41</td>\n",
       "      <td>7.30</td>\n",
       "      <td>0.70</td>\n",
       "      <td>1.56</td>\n",
       "      <td>750</td>\n",
       "    </tr>\n",
       "    <tr>\n",
       "      <th>175</th>\n",
       "      <td>13.27</td>\n",
       "      <td>4.28</td>\n",
       "      <td>2.26</td>\n",
       "      <td>20.0</td>\n",
       "      <td>120</td>\n",
       "      <td>1.59</td>\n",
       "      <td>0.69</td>\n",
       "      <td>0.43</td>\n",
       "      <td>1.35</td>\n",
       "      <td>10.20</td>\n",
       "      <td>0.59</td>\n",
       "      <td>1.56</td>\n",
       "      <td>835</td>\n",
       "    </tr>\n",
       "    <tr>\n",
       "      <th>176</th>\n",
       "      <td>13.17</td>\n",
       "      <td>2.59</td>\n",
       "      <td>2.37</td>\n",
       "      <td>20.0</td>\n",
       "      <td>120</td>\n",
       "      <td>1.65</td>\n",
       "      <td>0.68</td>\n",
       "      <td>0.53</td>\n",
       "      <td>1.46</td>\n",
       "      <td>9.30</td>\n",
       "      <td>0.60</td>\n",
       "      <td>1.62</td>\n",
       "      <td>840</td>\n",
       "    </tr>\n",
       "    <tr>\n",
       "      <th>177</th>\n",
       "      <td>14.13</td>\n",
       "      <td>4.10</td>\n",
       "      <td>2.74</td>\n",
       "      <td>24.5</td>\n",
       "      <td>96</td>\n",
       "      <td>2.05</td>\n",
       "      <td>0.76</td>\n",
       "      <td>0.56</td>\n",
       "      <td>1.35</td>\n",
       "      <td>9.20</td>\n",
       "      <td>0.61</td>\n",
       "      <td>1.60</td>\n",
       "      <td>560</td>\n",
       "    </tr>\n",
       "  </tbody>\n",
       "</table>\n",
       "<p>178 rows × 13 columns</p>\n",
       "</div>"
      ],
      "text/plain": [
       "     Alcohol  Malic_Acid   Ash  Ash_Alcanity  Magnesium  Total_Phenols  \\\n",
       "0      14.23        1.71  2.43          15.6        127           2.80   \n",
       "1      13.20        1.78  2.14          11.2        100           2.65   \n",
       "2      13.16        2.36  2.67          18.6        101           2.80   \n",
       "3      14.37        1.95  2.50          16.8        113           3.85   \n",
       "4      13.24        2.59  2.87          21.0        118           2.80   \n",
       "..       ...         ...   ...           ...        ...            ...   \n",
       "173    13.71        5.65  2.45          20.5         95           1.68   \n",
       "174    13.40        3.91  2.48          23.0        102           1.80   \n",
       "175    13.27        4.28  2.26          20.0        120           1.59   \n",
       "176    13.17        2.59  2.37          20.0        120           1.65   \n",
       "177    14.13        4.10  2.74          24.5         96           2.05   \n",
       "\n",
       "     Flavanoids  Nonflavanoid_Phenols  Proanthocyanins  Color_Intensity   Hue  \\\n",
       "0          3.06                  0.28             2.29             5.64  1.04   \n",
       "1          2.76                  0.26             1.28             4.38  1.05   \n",
       "2          3.24                  0.30             2.81             5.68  1.03   \n",
       "3          3.49                  0.24             2.18             7.80  0.86   \n",
       "4          2.69                  0.39             1.82             4.32  1.04   \n",
       "..          ...                   ...              ...              ...   ...   \n",
       "173        0.61                  0.52             1.06             7.70  0.64   \n",
       "174        0.75                  0.43             1.41             7.30  0.70   \n",
       "175        0.69                  0.43             1.35            10.20  0.59   \n",
       "176        0.68                  0.53             1.46             9.30  0.60   \n",
       "177        0.76                  0.56             1.35             9.20  0.61   \n",
       "\n",
       "     OD280  Proline  \n",
       "0     3.92     1065  \n",
       "1     3.40     1050  \n",
       "2     3.17     1185  \n",
       "3     3.45     1480  \n",
       "4     2.93      735  \n",
       "..     ...      ...  \n",
       "173   1.74      740  \n",
       "174   1.56      750  \n",
       "175   1.56      835  \n",
       "176   1.62      840  \n",
       "177   1.60      560  \n",
       "\n",
       "[178 rows x 13 columns]"
      ]
     },
     "execution_count": 57,
     "metadata": {},
     "output_type": "execute_result"
    }
   ],
   "source": [
    "data = pd.read_csv('wine-clustering.csv')\n",
    "data"
   ]
  },
  {
   "cell_type": "markdown",
   "id": "22660547",
   "metadata": {},
   "source": [
    "## Data cleaning"
   ]
  },
  {
   "cell_type": "code",
   "execution_count": 58,
   "id": "7f6965b1",
   "metadata": {
    "scrolled": true
   },
   "outputs": [
    {
     "data": {
      "text/plain": [
       "Index(['Alcohol', 'Malic_Acid', 'Ash', 'Ash_Alcanity', 'Magnesium',\n",
       "       'Total_Phenols', 'Flavanoids', 'Nonflavanoid_Phenols',\n",
       "       'Proanthocyanins', 'Color_Intensity', 'Hue', 'OD280', 'Proline'],\n",
       "      dtype='object')"
      ]
     },
     "execution_count": 58,
     "metadata": {},
     "output_type": "execute_result"
    }
   ],
   "source": [
    "data.columns"
   ]
  },
  {
   "cell_type": "code",
   "execution_count": 59,
   "id": "c8c2d86d",
   "metadata": {},
   "outputs": [],
   "source": [
    "data.drop(['OD280', 'Ash_Alcanity', 'Nonflavanoid_Phenols'], axis=1, inplace=True)"
   ]
  },
  {
   "cell_type": "code",
   "execution_count": 60,
   "id": "f2e9d3a4",
   "metadata": {},
   "outputs": [
    {
     "name": "stdout",
     "output_type": "stream",
     "text": [
      "<class 'pandas.core.frame.DataFrame'>\n",
      "RangeIndex: 178 entries, 0 to 177\n",
      "Data columns (total 10 columns):\n",
      " #   Column           Non-Null Count  Dtype  \n",
      "---  ------           --------------  -----  \n",
      " 0   Alcohol          178 non-null    float64\n",
      " 1   Malic_Acid       178 non-null    float64\n",
      " 2   Ash              178 non-null    float64\n",
      " 3   Magnesium        178 non-null    int64  \n",
      " 4   Total_Phenols    178 non-null    float64\n",
      " 5   Flavanoids       178 non-null    float64\n",
      " 6   Proanthocyanins  178 non-null    float64\n",
      " 7   Color_Intensity  178 non-null    float64\n",
      " 8   Hue              178 non-null    float64\n",
      " 9   Proline          178 non-null    int64  \n",
      "dtypes: float64(8), int64(2)\n",
      "memory usage: 14.0 KB\n"
     ]
    }
   ],
   "source": [
    "data.info()"
   ]
  },
  {
   "cell_type": "code",
   "execution_count": 61,
   "id": "61f0bfd8",
   "metadata": {},
   "outputs": [
    {
     "data": {
      "text/plain": [
       "(178, 10)"
      ]
     },
     "execution_count": 61,
     "metadata": {},
     "output_type": "execute_result"
    }
   ],
   "source": [
    "data.shape"
   ]
  },
  {
   "cell_type": "code",
   "execution_count": 62,
   "id": "0b8dba56",
   "metadata": {},
   "outputs": [
    {
     "data": {
      "text/plain": [
       "Alcohol            0\n",
       "Malic_Acid         0\n",
       "Ash                0\n",
       "Magnesium          0\n",
       "Total_Phenols      0\n",
       "Flavanoids         0\n",
       "Proanthocyanins    0\n",
       "Color_Intensity    0\n",
       "Hue                0\n",
       "Proline            0\n",
       "dtype: int64"
      ]
     },
     "execution_count": 62,
     "metadata": {},
     "output_type": "execute_result"
    }
   ],
   "source": [
    "data.isna().sum()"
   ]
  },
  {
   "cell_type": "code",
   "execution_count": 63,
   "id": "3e72f045",
   "metadata": {},
   "outputs": [
    {
     "data": {
      "text/plain": [
       "0"
      ]
     },
     "execution_count": 63,
     "metadata": {},
     "output_type": "execute_result"
    }
   ],
   "source": [
    "data.duplicated().sum()"
   ]
  },
  {
   "cell_type": "code",
   "execution_count": 64,
   "id": "345de171",
   "metadata": {},
   "outputs": [
    {
     "data": {
      "image/png": "[encoded data removed]",
      "text/plain": [
       "<Figure size 864x864 with 2 Axes>"
      ]
     },
     "metadata": {},
     "output_type": "display_data"
    }
   ],
   "source": [
    "plt.figure(figsize=(12,12))\n",
    "sns.heatmap(data.corr(), annot=True)\n",
    "plt.show()"
   ]
  },
  {
   "cell_type": "markdown",
   "id": "e3cafe25",
   "metadata": {},
   "source": [
    "Dataset sudah clean jadi tidak perlu kita drop atau ubah kolomnya."
   ]
  },
  {
   "cell_type": "markdown",
   "id": "feae9c5b",
   "metadata": {},
   "source": [
    "## Data preprocessing"
   ]
  },
  {
   "cell_type": "code",
   "execution_count": 65,
   "id": "5cd670a7",
   "metadata": {},
   "outputs": [
    {
     "data": {
      "text/plain": [
       "array([[0.84210526, 0.1916996 , 0.57219251, 0.61956522, 0.62758621,\n",
       "        0.57383966, 0.59305994, 0.37201365, 0.45528455, 0.56134094],\n",
       "       [0.57105263, 0.2055336 , 0.4171123 , 0.32608696, 0.57586207,\n",
       "        0.51054852, 0.27444795, 0.26450512, 0.46341463, 0.55064194],\n",
       "       [0.56052632, 0.3201581 , 0.70053476, 0.33695652, 0.62758621,\n",
       "        0.61181435, 0.75709779, 0.37542662, 0.44715447, 0.64693295],\n",
       "       [0.87894737, 0.23913043, 0.60962567, 0.4673913 , 0.98965517,\n",
       "        0.66455696, 0.55835962, 0.55631399, 0.30894309, 0.85734665],\n",
       "       [0.58157895, 0.36561265, 0.80748663, 0.52173913, 0.62758621,\n",
       "        0.49578059, 0.44479495, 0.25938567, 0.45528455, 0.32596291]])"
      ]
     },
     "execution_count": 65,
     "metadata": {},
     "output_type": "execute_result"
    }
   ],
   "source": [
    "# Normalisasi data\n",
    "mm_scaler = MinMaxScaler()  \n",
    "x = mm_scaler.fit_transform(data)\n",
    "x[: 5]"
   ]
  },
  {
   "cell_type": "code",
   "execution_count": 66,
   "id": "2ebcd7bf",
   "metadata": {},
   "outputs": [],
   "source": [
    "pca = PCA(n_components=3)\n",
    "components = pca.fit_transform(x)\n",
    "pca_data = pd.DataFrame(data=components,\n",
    "                        columns=['Component 1', 'Component 2', 'Component 3'])"
   ]
  },
  {
   "cell_type": "code",
   "execution_count": 67,
   "id": "b6b0eeb5",
   "metadata": {},
   "outputs": [
    {
     "name": "stdout",
     "output_type": "stream",
     "text": [
      "[0.38932977 0.24669993 0.09496145]\n",
      "Total informasi dari 3 Component=  0.7309911563480213\n"
     ]
    }
   ],
   "source": [
    "print(pca.explained_variance_ratio_)\n",
    "\n",
    "print(\"Total informasi dari 3 Component= \", sum(pca.explained_variance_ratio_))"
   ]
  },
  {
   "cell_type": "markdown",
   "id": "e8571d92",
   "metadata": {},
   "source": [
    "## Model training"
   ]
  },
  {
   "cell_type": "code",
   "execution_count": 69,
   "id": "63f19124",
   "metadata": {},
   "outputs": [],
   "source": [
    "y_kmeans= k_means_model.fit_predict(pca_data)\n",
    "\n",
    "labels = k_means_model.labels_\n",
    "\n",
    "cluster = k_means_model.cluster_centers_\n",
    "centroids = np.array(cluster)\n",
    "\n",
    "\n",
    "data['Class'] = labels; pca_data['Class'] = labels"
   ]
  },
  {
   "cell_type": "code",
   "execution_count": 70,
   "id": "26a58814",
   "metadata": {},
   "outputs": [
    {
     "data": {
      "image/png": "[encoded data removed]",
      "text/plain": [
       "<Figure size 576x396 with 1 Axes>"
      ]
     },
     "metadata": {},
     "output_type": "display_data"
    }
   ],
   "source": [
    "sns.countplot(x='Class', data=data, palette='hls')\n",
    "plt.show()"
   ]
  },
  {
   "cell_type": "markdown",
   "id": "31ad16d5",
   "metadata": {},
   "source": [
    "## Model evaluation"
   ]
  },
  {
   "cell_type": "code",
   "execution_count": 73,
   "id": "dc9132b7",
   "metadata": {},
   "outputs": [
    {
     "data": {
      "image/png": "[encoded data removed]",
      "text/plain": [
       "<Figure size 1080x360 with 2 Axes>"
      ]
     },
     "metadata": {},
     "output_type": "display_data"
    }
   ],
   "source": [
    "fig, ax = plt.subplots(nrows = 1, ncols = 2, figsize = (15,5))\n",
    "\n",
    "plt.subplot(1,2,1)\n",
    "sns.boxplot(x = 'Class', y = 'Hue', data  = data, color = 'coral');\n",
    "plt.title('Hue vs Class')\n",
    "\n",
    "plt.subplot(1,2,2)\n",
    "sns.boxplot(x = 'Class', y = 'Color_Intensity', data  = data, color = 'skyblue');\n",
    "plt.title('Color_Intensity vs Class')\n",
    "\n",
    "plt.show()"
   ]
  },
  {
   "cell_type": "markdown",
   "id": "3093f327",
   "metadata": {},
   "source": [
    "# Conclusion"
   ]
  },
  {
   "cell_type": "markdown",
   "id": "7b3a5593",
   "metadata": {},
   "source": [
    "Berdasarkan hasil dari analisis keseluruhan, dapat disimpulkan bahwa :\n",
    "\n",
    "1. Project ini membahas tentang mengimplementasikan algoritma Unsupervised Learning. Metode yang digunakan untuk menyelesaikan permasalahannya adalah *Principal Component Analysis (PCA) dan K-Means*.\n",
    "\n",
    "2. Untuk mencari nilai optimal dalam menentukan jumlah clustering, maka digunakan teknik ELBOW METHOD.\n",
    "\n",
    "3. Diperoleh jumlah Cluster paling optimal, yaitu 5.\n",
    "\n",
    "4. Setelah melalui beberapa analisis dan teknik pemrosesan, data yang digunakan dapat dikelompokkan berdasarkan 5 Clustering, dimana kelima cluster tersebut memiliki kriteria yang berbeda. Yaitu :\n",
    "\n",
    "    * kelas 0, limit kredit pengguna paling rendah & Pengguna sangat jarang memperbaharui isi saldo\n",
    "\n",
    "    * kelas 1, limit kredit pengguna rendah  & Pengguna  jarang memperbaharui isi saldo\n",
    "\n",
    "    * kelas 2, limit kredit pengguna rata-rata & pengguna cukup sering memperbaharui isi saldo\n",
    "\n",
    "    * kelas 3, limit kredit pengguna tinggi & pengguna sering memperbaharui isi saldo\n",
    "\n",
    "    * kelas 4, limit kredit pengguna paling tinggi & Pengguna sangat sering memperbaharui isi saldo"
   ]
  }
 ],
 "metadata": {
  "kernelspec": {
   "display_name": "Python 3 (ipykernel)",
   "language": "python",
   "name": "python3"
  },
  "language_info": {
   "codemirror_mode": {
    "name": "ipython",
    "version": 3
   },
   "file_extension": ".py",
   "mimetype": "text/x-python",
   "name": "python",
   "nbconvert_exporter": "python",
   "pygments_lexer": "ipython3",
   "version": "3.9.4"
  },
  "toc": {
   "base_numbering": 1,
   "nav_menu": {},
   "number_sections": true,
   "sideBar": true,
   "skip_h1_title": false,
   "title_cell": "Table of Contents",
   "title_sidebar": "Contents",
   "toc_cell": false,
   "toc_position": {
    "height": "calc(100% - 180px)",
    "left": "10px",
    "top": "150px",
    "width": "248.352px"
   },
   "toc_section_display": true,
   "toc_window_display": true
  }
 },
 "nbformat": 4,
 "nbformat_minor": 5
}
