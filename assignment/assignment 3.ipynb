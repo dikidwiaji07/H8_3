{
 "cells": [
  {
   "cell_type": "code",
   "execution_count": 41,
   "metadata": {},
   "outputs": [],
   "source": [
    "import pandas as pd\n",
    "import numpy as np\n",
    "import seaborn as sns\n",
    "import matplotlib.pyplot as plt\n",
    "from sklearn import metrics\n",
    "from sklearn.metrics import confusion_matrix\n",
    "from sklearn.model_selection import train_test_split\n",
    "from sklearn.linear_model import LogisticRegression\n",
    "from sklearn.neighbors import KNeighborsClassifier\n",
    "from sklearn.tree import DecisionTreeClassifier\n",
    "from sklearn.ensemble import RandomForestClassifier\n",
    "from sklearn.naive_bayes import GaussianNB\n",
    "from sklearn import svm"
   ]
  },
  {
   "attachments": {},
   "cell_type": "markdown",
   "metadata": {},
   "source": [
    "## Data Explore and Analysis Visualization"
   ]
  },
  {
   "cell_type": "code",
   "execution_count": 9,
   "metadata": {},
   "outputs": [],
   "source": [
    "df = pd.read_csv('bank.csv', sep=';')"
   ]
  },
  {
   "cell_type": "code",
   "execution_count": 10,
   "metadata": {},
   "outputs": [
    {
     "data": {
      "text/html": [
       "<div>\n",
       "<style scoped>\n",
       "    .dataframe tbody tr th:only-of-type {\n",
       "        vertical-align: middle;\n",
       "    }\n",
       "\n",
       "    .dataframe tbody tr th {\n",
       "        vertical-align: top;\n",
       "    }\n",
       "\n",
       "    .dataframe thead th {\n",
       "        text-align: right;\n",
       "    }\n",
       "</style>\n",
       "<table border=\"1\" class=\"dataframe\">\n",
       "  <thead>\n",
       "    <tr style=\"text-align: right;\">\n",
       "      <th></th>\n",
       "      <th>age</th>\n",
       "      <th>job</th>\n",
       "      <th>marital</th>\n",
       "      <th>education</th>\n",
       "      <th>default</th>\n",
       "      <th>balance</th>\n",
       "      <th>housing</th>\n",
       "      <th>loan</th>\n",
       "      <th>contact</th>\n",
       "      <th>day</th>\n",
       "      <th>month</th>\n",
       "      <th>duration</th>\n",
       "      <th>campaign</th>\n",
       "      <th>pdays</th>\n",
       "      <th>previous</th>\n",
       "      <th>poutcome</th>\n",
       "      <th>y</th>\n",
       "    </tr>\n",
       "  </thead>\n",
       "  <tbody>\n",
       "    <tr>\n",
       "      <th>0</th>\n",
       "      <td>30</td>\n",
       "      <td>unemployed</td>\n",
       "      <td>married</td>\n",
       "      <td>primary</td>\n",
       "      <td>no</td>\n",
       "      <td>1787</td>\n",
       "      <td>no</td>\n",
       "      <td>no</td>\n",
       "      <td>cellular</td>\n",
       "      <td>19</td>\n",
       "      <td>oct</td>\n",
       "      <td>79</td>\n",
       "      <td>1</td>\n",
       "      <td>-1</td>\n",
       "      <td>0</td>\n",
       "      <td>unknown</td>\n",
       "      <td>no</td>\n",
       "    </tr>\n",
       "    <tr>\n",
       "      <th>1</th>\n",
       "      <td>33</td>\n",
       "      <td>services</td>\n",
       "      <td>married</td>\n",
       "      <td>secondary</td>\n",
       "      <td>no</td>\n",
       "      <td>4789</td>\n",
       "      <td>yes</td>\n",
       "      <td>yes</td>\n",
       "      <td>cellular</td>\n",
       "      <td>11</td>\n",
       "      <td>may</td>\n",
       "      <td>220</td>\n",
       "      <td>1</td>\n",
       "      <td>339</td>\n",
       "      <td>4</td>\n",
       "      <td>failure</td>\n",
       "      <td>no</td>\n",
       "    </tr>\n",
       "    <tr>\n",
       "      <th>2</th>\n",
       "      <td>35</td>\n",
       "      <td>management</td>\n",
       "      <td>single</td>\n",
       "      <td>tertiary</td>\n",
       "      <td>no</td>\n",
       "      <td>1350</td>\n",
       "      <td>yes</td>\n",
       "      <td>no</td>\n",
       "      <td>cellular</td>\n",
       "      <td>16</td>\n",
       "      <td>apr</td>\n",
       "      <td>185</td>\n",
       "      <td>1</td>\n",
       "      <td>330</td>\n",
       "      <td>1</td>\n",
       "      <td>failure</td>\n",
       "      <td>no</td>\n",
       "    </tr>\n",
       "    <tr>\n",
       "      <th>3</th>\n",
       "      <td>30</td>\n",
       "      <td>management</td>\n",
       "      <td>married</td>\n",
       "      <td>tertiary</td>\n",
       "      <td>no</td>\n",
       "      <td>1476</td>\n",
       "      <td>yes</td>\n",
       "      <td>yes</td>\n",
       "      <td>unknown</td>\n",
       "      <td>3</td>\n",
       "      <td>jun</td>\n",
       "      <td>199</td>\n",
       "      <td>4</td>\n",
       "      <td>-1</td>\n",
       "      <td>0</td>\n",
       "      <td>unknown</td>\n",
       "      <td>no</td>\n",
       "    </tr>\n",
       "    <tr>\n",
       "      <th>4</th>\n",
       "      <td>59</td>\n",
       "      <td>blue-collar</td>\n",
       "      <td>married</td>\n",
       "      <td>secondary</td>\n",
       "      <td>no</td>\n",
       "      <td>0</td>\n",
       "      <td>yes</td>\n",
       "      <td>no</td>\n",
       "      <td>unknown</td>\n",
       "      <td>5</td>\n",
       "      <td>may</td>\n",
       "      <td>226</td>\n",
       "      <td>1</td>\n",
       "      <td>-1</td>\n",
       "      <td>0</td>\n",
       "      <td>unknown</td>\n",
       "      <td>no</td>\n",
       "    </tr>\n",
       "  </tbody>\n",
       "</table>\n",
       "</div>"
      ],
      "text/plain": [
       "   age          job  marital  education default  balance housing loan  \\\n",
       "0   30   unemployed  married    primary      no     1787      no   no   \n",
       "1   33     services  married  secondary      no     4789     yes  yes   \n",
       "2   35   management   single   tertiary      no     1350     yes   no   \n",
       "3   30   management  married   tertiary      no     1476     yes  yes   \n",
       "4   59  blue-collar  married  secondary      no        0     yes   no   \n",
       "\n",
       "    contact  day month  duration  campaign  pdays  previous poutcome   y  \n",
       "0  cellular   19   oct        79         1     -1         0  unknown  no  \n",
       "1  cellular   11   may       220         1    339         4  failure  no  \n",
       "2  cellular   16   apr       185         1    330         1  failure  no  \n",
       "3   unknown    3   jun       199         4     -1         0  unknown  no  \n",
       "4   unknown    5   may       226         1     -1         0  unknown  no  "
      ]
     },
     "execution_count": 10,
     "metadata": {},
     "output_type": "execute_result"
    }
   ],
   "source": [
    "df.head()"
   ]
  },
  {
   "cell_type": "code",
   "execution_count": 11,
   "metadata": {},
   "outputs": [
    {
     "data": {
      "text/html": [
       "<div>\n",
       "<style scoped>\n",
       "    .dataframe tbody tr th:only-of-type {\n",
       "        vertical-align: middle;\n",
       "    }\n",
       "\n",
       "    .dataframe tbody tr th {\n",
       "        vertical-align: top;\n",
       "    }\n",
       "\n",
       "    .dataframe thead th {\n",
       "        text-align: right;\n",
       "    }\n",
       "</style>\n",
       "<table border=\"1\" class=\"dataframe\">\n",
       "  <thead>\n",
       "    <tr style=\"text-align: right;\">\n",
       "      <th></th>\n",
       "      <th>age</th>\n",
       "      <th>job</th>\n",
       "      <th>marital</th>\n",
       "      <th>education</th>\n",
       "      <th>default</th>\n",
       "      <th>balance</th>\n",
       "      <th>housing</th>\n",
       "      <th>loan</th>\n",
       "      <th>contact</th>\n",
       "      <th>day</th>\n",
       "      <th>month</th>\n",
       "      <th>duration</th>\n",
       "      <th>campaign</th>\n",
       "      <th>pdays</th>\n",
       "      <th>previous</th>\n",
       "      <th>poutcome</th>\n",
       "      <th>y</th>\n",
       "    </tr>\n",
       "  </thead>\n",
       "  <tbody>\n",
       "    <tr>\n",
       "      <th>4516</th>\n",
       "      <td>33</td>\n",
       "      <td>services</td>\n",
       "      <td>married</td>\n",
       "      <td>secondary</td>\n",
       "      <td>no</td>\n",
       "      <td>-333</td>\n",
       "      <td>yes</td>\n",
       "      <td>no</td>\n",
       "      <td>cellular</td>\n",
       "      <td>30</td>\n",
       "      <td>jul</td>\n",
       "      <td>329</td>\n",
       "      <td>5</td>\n",
       "      <td>-1</td>\n",
       "      <td>0</td>\n",
       "      <td>unknown</td>\n",
       "      <td>no</td>\n",
       "    </tr>\n",
       "    <tr>\n",
       "      <th>4517</th>\n",
       "      <td>57</td>\n",
       "      <td>self-employed</td>\n",
       "      <td>married</td>\n",
       "      <td>tertiary</td>\n",
       "      <td>yes</td>\n",
       "      <td>-3313</td>\n",
       "      <td>yes</td>\n",
       "      <td>yes</td>\n",
       "      <td>unknown</td>\n",
       "      <td>9</td>\n",
       "      <td>may</td>\n",
       "      <td>153</td>\n",
       "      <td>1</td>\n",
       "      <td>-1</td>\n",
       "      <td>0</td>\n",
       "      <td>unknown</td>\n",
       "      <td>no</td>\n",
       "    </tr>\n",
       "    <tr>\n",
       "      <th>4518</th>\n",
       "      <td>57</td>\n",
       "      <td>technician</td>\n",
       "      <td>married</td>\n",
       "      <td>secondary</td>\n",
       "      <td>no</td>\n",
       "      <td>295</td>\n",
       "      <td>no</td>\n",
       "      <td>no</td>\n",
       "      <td>cellular</td>\n",
       "      <td>19</td>\n",
       "      <td>aug</td>\n",
       "      <td>151</td>\n",
       "      <td>11</td>\n",
       "      <td>-1</td>\n",
       "      <td>0</td>\n",
       "      <td>unknown</td>\n",
       "      <td>no</td>\n",
       "    </tr>\n",
       "    <tr>\n",
       "      <th>4519</th>\n",
       "      <td>28</td>\n",
       "      <td>blue-collar</td>\n",
       "      <td>married</td>\n",
       "      <td>secondary</td>\n",
       "      <td>no</td>\n",
       "      <td>1137</td>\n",
       "      <td>no</td>\n",
       "      <td>no</td>\n",
       "      <td>cellular</td>\n",
       "      <td>6</td>\n",
       "      <td>feb</td>\n",
       "      <td>129</td>\n",
       "      <td>4</td>\n",
       "      <td>211</td>\n",
       "      <td>3</td>\n",
       "      <td>other</td>\n",
       "      <td>no</td>\n",
       "    </tr>\n",
       "    <tr>\n",
       "      <th>4520</th>\n",
       "      <td>44</td>\n",
       "      <td>entrepreneur</td>\n",
       "      <td>single</td>\n",
       "      <td>tertiary</td>\n",
       "      <td>no</td>\n",
       "      <td>1136</td>\n",
       "      <td>yes</td>\n",
       "      <td>yes</td>\n",
       "      <td>cellular</td>\n",
       "      <td>3</td>\n",
       "      <td>apr</td>\n",
       "      <td>345</td>\n",
       "      <td>2</td>\n",
       "      <td>249</td>\n",
       "      <td>7</td>\n",
       "      <td>other</td>\n",
       "      <td>no</td>\n",
       "    </tr>\n",
       "  </tbody>\n",
       "</table>\n",
       "</div>"
      ],
      "text/plain": [
       "      age            job  marital  education default  balance housing loan  \\\n",
       "4516   33       services  married  secondary      no     -333     yes   no   \n",
       "4517   57  self-employed  married   tertiary     yes    -3313     yes  yes   \n",
       "4518   57     technician  married  secondary      no      295      no   no   \n",
       "4519   28    blue-collar  married  secondary      no     1137      no   no   \n",
       "4520   44   entrepreneur   single   tertiary      no     1136     yes  yes   \n",
       "\n",
       "       contact  day month  duration  campaign  pdays  previous poutcome   y  \n",
       "4516  cellular   30   jul       329         5     -1         0  unknown  no  \n",
       "4517   unknown    9   may       153         1     -1         0  unknown  no  \n",
       "4518  cellular   19   aug       151        11     -1         0  unknown  no  \n",
       "4519  cellular    6   feb       129         4    211         3    other  no  \n",
       "4520  cellular    3   apr       345         2    249         7    other  no  "
      ]
     },
     "execution_count": 11,
     "metadata": {},
     "output_type": "execute_result"
    }
   ],
   "source": [
    "df.tail()"
   ]
  },
  {
   "cell_type": "code",
   "execution_count": 12,
   "metadata": {},
   "outputs": [
    {
     "data": {
      "text/plain": [
       "age          0\n",
       "job          0\n",
       "marital      0\n",
       "education    0\n",
       "default      0\n",
       "balance      0\n",
       "housing      0\n",
       "loan         0\n",
       "contact      0\n",
       "day          0\n",
       "month        0\n",
       "duration     0\n",
       "campaign     0\n",
       "pdays        0\n",
       "previous     0\n",
       "poutcome     0\n",
       "y            0\n",
       "dtype: int64"
      ]
     },
     "execution_count": 12,
     "metadata": {},
     "output_type": "execute_result"
    }
   ],
   "source": [
    "df.isna().sum()"
   ]
  },
  {
   "cell_type": "code",
   "execution_count": 14,
   "metadata": {},
   "outputs": [
    {
     "data": {
      "text/plain": [
       "(4521, 17)"
      ]
     },
     "execution_count": 14,
     "metadata": {},
     "output_type": "execute_result"
    }
   ],
   "source": [
    "df.shape\n"
   ]
  },
  {
   "cell_type": "code",
   "execution_count": 15,
   "metadata": {},
   "outputs": [
    {
     "data": {
      "text/plain": [
       "Index(['age', 'job', 'marital', 'education', 'default', 'balance', 'housing',\n",
       "       'loan', 'contact', 'day', 'month', 'duration', 'campaign', 'pdays',\n",
       "       'previous', 'poutcome', 'y'],\n",
       "      dtype='object')"
      ]
     },
     "execution_count": 15,
     "metadata": {},
     "output_type": "execute_result"
    }
   ],
   "source": [
    "df.columns"
   ]
  },
  {
   "cell_type": "code",
   "execution_count": 16,
   "metadata": {},
   "outputs": [
    {
     "name": "stdout",
     "output_type": "stream",
     "text": [
      "\n",
      " age\n",
      "[30 33 35 59 36 39 41 43 20 31 40 56 37 25 38 42 44 26 55 67 53 68 32 49\n",
      " 78 23 52 34 61 45 48 57 54 63 51 29 50 27 60 28 21 58 22 46 24 77 75 47\n",
      " 70 65 64 62 66 19 81 83 80 71 72 69 79 73 86 74 76 87 84]\n",
      "\n",
      " job\n",
      "['unemployed' 'services' 'management' 'blue-collar' 'self-employed'\n",
      " 'technician' 'entrepreneur' 'admin.' 'student' 'housemaid' 'retired'\n",
      " 'unknown']\n",
      "\n",
      " marital\n",
      "['married' 'single' 'divorced']\n",
      "\n",
      " education\n",
      "['primary' 'secondary' 'tertiary' 'unknown']\n",
      "\n",
      " default\n",
      "['no' 'yes']\n",
      "\n",
      " balance\n",
      "[ 1787  4789  1350 ...  -333 -3313  1137]\n",
      "\n",
      " housing\n",
      "['no' 'yes']\n",
      "\n",
      " loan\n",
      "['no' 'yes']\n",
      "\n",
      " contact\n",
      "['cellular' 'unknown' 'telephone']\n",
      "\n",
      " day\n",
      "[19 11 16  3  5 23 14  6 17 20 13 30 29 27  7 18 12 21 26 22  2  4 15  8\n",
      " 28  9  1 10 31 25 24]\n",
      "\n",
      " month\n",
      "['oct' 'may' 'apr' 'jun' 'feb' 'aug' 'jan' 'jul' 'nov' 'sep' 'mar' 'dec']\n",
      "\n",
      " duration\n",
      "[  79  220  185  199  226  141  341  151   57  313  273  113  328  261\n",
      "   89  189  239  114  250  148   96  140  109  125  169  182  247  119\n",
      "  149   74  897   81   40  958  354  150   97  132  765   16  609  106\n",
      "  365  205   11  105   59  425  204  181 1018 1740   98  441  272  159\n",
      "  295  314  579  554  323  227  134  223  155  130  630  164  268  380\n",
      "  154  221   67  367   87  701  652   63  398  224  406   60  521  279\n",
      "  203  201  372  391  165  231  291  233  473  736  337  553  345   65\n",
      "    9  259  371  280  243  435  258    7  317   76  170  386   83   69\n",
      "  564  588  779  281 1877   51   32  176  161  187   24   85  236   54\n",
      "   71  489   39  455   86  190   45  168  194  103  333  102   92  213\n",
      "  289   77  324   84   10   35   82  676   80  549  135  412  101  253\n",
      "  166   18  147   14   61  377  152  382  543  240   48  471  285  301\n",
      "  768 1337  403  139  196  115   17   95  198  654  256  834   20  178\n",
      "  111  186  297  210  112  222  195  123  145  124  216  483  690  344\n",
      "  673  144  246  361  375 1097  180  373  230   58   88  487   29  484\n",
      "  262  644  699   49   64  121  197  331  138  312  120  526  211   62\n",
      "  988  451 1030 1484  445  383  605  330  171  442  772  249  357  271\n",
      "  783  472  395   56  641  429  157  162  799 1370   22  215 1017  298\n",
      "  126    8  555  270  339  342 1434   30  397  620    6  209  419  283\n",
      "  188  267  245 1065  207  456  131   94  567  153   53  234  108  208\n",
      "  597  505  332  212  493  681  287  202   37   72  325 1212  319  514\n",
      "  551  142  293  107  127 1816  200  418  387  156   47  265   31   28\n",
      "  369  854   46  266  321   99  430  264  118  343    5  722  748  523\n",
      "  421   15  502  193  347  468  388 1735  172  117  587  501  282  110\n",
      "  104  378 1407  738   70  904  336  238  585   68 1713  218  661  566\n",
      "  136  160   44  792   73   90  346  192  682  651  405  350   36  389\n",
      " 3025  219  427  533   19  819  278  617   34  668   75  146  356  251\n",
      "  352  184  568  260  447  426  174  284  428  237 1031  700  590   43\n",
      "   27 1181  122  307  770  767  232  986   66  158  306  559  183  631\n",
      " 1282 1199  244   55  290  385  133   91   25  275  632  100   41  446\n",
      "  304  335  276   42  614  557 1663  510 1259  225  404 1015  761  464\n",
      "  206  667  143  717   38  254  882  957  299  167  500  177  457  460\n",
      " 1028  315  381  643  508  128  492  257  241  536  601 1168  277  364\n",
      "  229  402  175  255  820  116  463  603  191 2087  754  303  288  891\n",
      "  558  228  353  296  432 1130  305  274  860  420  756  968  408   13\n",
      "  763  316   50    4   78  286  766  648  688   21  593  407  563   52\n",
      "  803  396  637  945 1178  506  409  327  618  936  329  179  731  670\n",
      "  318  415  137  349  263  671  452  163  586  650  610  747  252  883\n",
      "  684  686 1060  724  424  712  753 1081  376  433  411 1083  757  524\n",
      "  653   93  503  217  475  340  242  530   23  935  773  423  626  578\n",
      "  248  528  785  952 1174  915  937  129 1063  758  574  847 1558  789\n",
      " 1441  322 1504  537  611   26   12  235  796 1126  697  931 1034  362\n",
      "  410  570  633  659  302  727  214  173  635  540 1210  486  646  326\n",
      "  414  716  449  580  399 1029  755  619  606  971  348  594 1275  379\n",
      " 1032  393  808  923  413  541  602  762  360  310  311  638  355  300\n",
      "  417  308  657  434  488 1309 1056  908  401  827  735  691  461  669\n",
      " 1473 1386  294  910  550 1366 1532  955  513 1236  809  482 1164  674\n",
      "  709  436  374  309  363  422  358  640  439  476  480  517  993   33\n",
      "  730  636  750  334  868  351 1689  607  485 1021  732  577  733  788\n",
      "  863 1073  525  696  535  370  465  338  956  546  470  836  544  443\n",
      " 1149  707 1451 1143  477  450  467  292  806  560  759 1183  598  466\n",
      "  431  269  542  562  515 1165  547  780  916  474  509  679 1472  965\n",
      " 1139  504  672  749  454  531  479  384  973  728  656  998  320  615\n",
      "  612  664  394  877 1971 1258  599  655 1994  743  924  929  491  719\n",
      "  565 1529  390 1467 1007  665  990  582  458  775  497  698  702  520\n",
      " 1156  884 1521  359  527  994 1579  437 1225  865  569 1011  814  984\n",
      "  392  595 1448  529 1006  622  494 1022 1044  781 1124  400  516 1516\n",
      "  978  720  495  798  876  875  481  793 1117 1223 1101  744 2769  561\n",
      "  715  639  538 1721 1608  725  519  490  907  680  977  959  693 2029\n",
      " 1009  718  805  623  976  600  469 1010  634 1531  764  532  825  539\n",
      "  816  821 1231  742 2456  721  777  548  830  645  723  746  869 1173\n",
      "  624  518  815  857  921  627  800  366 1088  812  866 1151  873  592\n",
      "  663  576 1476  951 1234 1263  660]\n",
      "\n",
      " campaign\n",
      "[ 1  4  2  5  3  6 18 10  9  7 12 14 13 24 11  8 29 32 16 22 15 30 25 21\n",
      " 17 19 23 20 50 28 31 44]\n",
      "\n",
      " pdays\n",
      "[ -1 339 330 176 147 241 152 105 342 101   5  92  56 170 182 297 196 460\n",
      " 137 367 145 169 207 266 288 168 345 436  90 183 146 335 347 119   7 271\n",
      " 181  88 141 126  61 373 351 242  62  91 308 250 172 265  78  28  79   1\n",
      " 188 167  89 164 462 209 321 254  94 364  96 356 149 363 275 325 341 260\n",
      " 358  87 303  98 327 337 322 102  99 370  84 212  63  81 191 360 332  80\n",
      "  85 247 150 175 382 261 336  58 206 112 199 133 208 253 135 278 140 298\n",
      " 273 124 281 162 323 349 117   2 256 333 116 268 136 198 357 259 353 174\n",
      " 371 205 246  69 315 110 461 184 270 127 187  64 130 346 100 352 808 113\n",
      " 378 292 287 107 293 139 138 193 274  97 103 359 185 674 211 300 334 280\n",
      " 479  95 262 362 225   3 366  60 190 368 122 343 131 365 299 115 316 180\n",
      " 154 313 264 350  73 232 204 143 375 186 344 210 248 177 221 189 104 258\n",
      " 305 171 120 317 178 386 118 404 374 282 179 284 227 291 173 871 238 294\n",
      " 222 435 340 426 239  83 111 415 255 235 244  38 683 329  59 151 192 158\n",
      " 338 388 165 348 197 295 109 484 326 369 397 414 319 474  93 249 272 355\n",
      " 195  82 541 231 153 201 761 114 385 267 161 467  75 106 223 312 148 309\n",
      " 283  86 166 160 450 500 311 123 159 687 224 361  74  76 286  77  57 219\n",
      " 331 804 144 234]\n",
      "\n",
      " previous\n",
      "[ 0  4  1  3  2  5 20  7  6 10  9  8 18 19 12 13 11 14 15 24 17 22 23 25]\n",
      "\n",
      " poutcome\n",
      "['unknown' 'failure' 'other' 'success']\n",
      "\n",
      " y\n",
      "['no' 'yes']\n"
     ]
    }
   ],
   "source": [
    "#Mencari nilai unique pada data\n",
    "for i in df.columns:\n",
    "    print(\"\\n\", i)\n",
    "    print(df[i].unique())"
   ]
  },
  {
   "cell_type": "code",
   "execution_count": 17,
   "metadata": {},
   "outputs": [
    {
     "data": {
      "text/plain": [
       "0"
      ]
     },
     "execution_count": 17,
     "metadata": {},
     "output_type": "execute_result"
    }
   ],
   "source": [
    "#Mengecek data duplikat\n",
    "df.duplicated().sum()"
   ]
  },
  {
   "cell_type": "code",
   "execution_count": 21,
   "metadata": {},
   "outputs": [
    {
     "data": {
      "image/png": "[encoded data removed]",
      "text/plain": [
       "<Figure size 1000x600 with 3 Axes>"
      ]
     },
     "metadata": {},
     "output_type": "display_data"
    }
   ],
   "source": [
    "# cek missing values dengan visualisasi menggunakan library: Missingno adalah pustaka khusus untuk menampilkan missing value dalam bentuk barchart\n",
    "\n",
    "import missingno as msno\n",
    "msno.bar(df,figsize=(10,6),color='orange')\n",
    "plt.show()"
   ]
  },
  {
   "cell_type": "code",
   "execution_count": 23,
   "metadata": {},
   "outputs": [
    {
     "data": {
      "text/plain": [
       "Text(0, 0.5, 'Frequency')"
      ]
     },
     "execution_count": 23,
     "metadata": {},
     "output_type": "execute_result"
    },
    {
     "data": {
      "image/png": "[encoded data removed]",
      "text/plain": [
       "<Figure size 640x480 with 1 Axes>"
      ]
     },
     "metadata": {},
     "output_type": "display_data"
    }
   ],
   "source": [
    "pd.crosstab(df.month,df.y).plot(kind='bar')\n",
    "plt.title('Langganan kartu kredit dalam bulan')\n",
    "plt.xlabel('Bulan')\n",
    "plt.ylabel('Frequency')"
   ]
  },
  {
   "cell_type": "code",
   "execution_count": 29,
   "metadata": {},
   "outputs": [
    {
     "data": {
      "image/png": "[encoded data removed]",
      "text/plain": [
       "<Figure size 1000x600 with 1 Axes>"
      ]
     },
     "metadata": {},
     "output_type": "display_data"
    }
   ],
   "source": [
    "# Membuat pie chart untuk nasabah yang berlangganan deposito berjangka\n",
    "mylabels = [\"Tidak \\nBerlangganan\", \"Berlangganan\"]\n",
    "mycolors = [\"cornflowerblue\", \"plum\"]\n",
    "explode = (0, 0.1)\n",
    "fig = plt.figure(figsize=(10,6)) \n",
    "ax = fig.add_axes([0,0,1,1]) \n",
    "\n",
    "ax.pie(df['y'].value_counts(), \n",
    "       labels = mylabels,\n",
    "       colors = mycolors,\n",
    "       explode = explode,\n",
    "       autopct ='%1.2f%%',\n",
    "       frame = True,\n",
    "       textprops = dict(color =\"black\", size=14)) \n",
    "\n",
    "ax.axis('equal') \n",
    "plt.title('Persentase Total Nasabah yang Berlangganan Deposito Berjangka',\n",
    "     color = 'black',\n",
    "     fontsize = 20\n",
    "     )\n",
    "\n",
    "plt.show()"
   ]
  },
  {
   "attachments": {},
   "cell_type": "markdown",
   "metadata": {},
   "source": [
    "## Preprocessing data"
   ]
  },
  {
   "cell_type": "code",
   "execution_count": 30,
   "metadata": {},
   "outputs": [],
   "source": [
    "df['y'].replace(['no', 'yes'], [0,1], inplace=True)"
   ]
  },
  {
   "cell_type": "code",
   "execution_count": 32,
   "metadata": {},
   "outputs": [],
   "source": [
    "cat_vars=['job','marital','education','default','housing','loan','contact','month','poutcome']\n",
    "for var in cat_vars:\n",
    "    cat_list = 'var' + '_' + var\n",
    "    cat_list = pd.get_dummies(df[var], prefix=var)\n",
    "    data = df.join(cat_list)\n",
    "    df = data\n",
    "\n",
    "cat_vars = ['job','marital','education','default','housing','loan','contact','month', 'poutcome']\n",
    "data_vars = df.columns.values.tolist()\n",
    "prep = [i for i in data_vars if i not in cat_vars]"
   ]
  },
  {
   "cell_type": "code",
   "execution_count": 33,
   "metadata": {},
   "outputs": [],
   "source": [
    "final = df[prep]"
   ]
  },
  {
   "cell_type": "code",
   "execution_count": 34,
   "metadata": {},
   "outputs": [],
   "source": [
    "X = final.loc[:, final.columns != 'y']\n",
    "y = final.loc[:, final.columns == 'y']"
   ]
  },
  {
   "cell_type": "code",
   "execution_count": 35,
   "metadata": {},
   "outputs": [],
   "source": [
    "X_train, X_test, y_train, y_test = train_test_split(X, y, test_size=0.3, random_state=0)"
   ]
  },
  {
   "attachments": {},
   "cell_type": "markdown",
   "metadata": {},
   "source": [
    "## Logistic Regression"
   ]
  },
  {
   "cell_type": "code",
   "execution_count": 37,
   "metadata": {},
   "outputs": [
    {
     "name": "stderr",
     "output_type": "stream",
     "text": [
      "c:\\Users\\dikid\\AppData\\Local\\Programs\\Python\\Python310\\lib\\site-packages\\sklearn\\utils\\validation.py:1111: DataConversionWarning: A column-vector y was passed when a 1d array was expected. Please change the shape of y to (n_samples, ), for example using ravel().\n",
      "  y = column_or_1d(y, warn=True)\n",
      "c:\\Users\\dikid\\AppData\\Local\\Programs\\Python\\Python310\\lib\\site-packages\\sklearn\\linear_model\\_logistic.py:444: ConvergenceWarning: lbfgs failed to converge (status=1):\n",
      "STOP: TOTAL NO. of ITERATIONS REACHED LIMIT.\n",
      "\n",
      "Increase the number of iterations (max_iter) or scale the data as shown in:\n",
      "    https://scikit-learn.org/stable/modules/preprocessing.html\n",
      "Please also refer to the documentation for alternative solver options:\n",
      "    https://scikit-learn.org/stable/modules/linear_model.html#logistic-regression\n",
      "  n_iter_i = _check_optimize_result(\n"
     ]
    }
   ],
   "source": [
    "log_reg = LogisticRegression()\n",
    "\n",
    "log_reg.fit(X_train, y_train)\n",
    "\n",
    "y_pred_log_reg = log_reg.predict(X_test)"
   ]
  },
  {
   "cell_type": "code",
   "execution_count": 38,
   "metadata": {},
   "outputs": [
    {
     "data": {
      "text/plain": [
       "0.8761974944731025"
      ]
     },
     "execution_count": 38,
     "metadata": {},
     "output_type": "execute_result"
    }
   ],
   "source": [
    "log_reg.score(X_test, y_test)"
   ]
  },
  {
   "cell_type": "code",
   "execution_count": 45,
   "metadata": {},
   "outputs": [
    {
     "name": "stdout",
     "output_type": "stream",
     "text": [
      "[[1153   37]\n",
      " [ 131   36]]\n"
     ]
    }
   ],
   "source": [
    "matrix_log_reg = confusion_matrix(y_test, y_pred_log_reg)\n",
    "print(matrix_log_reg)"
   ]
  },
  {
   "cell_type": "code",
   "execution_count": 39,
   "metadata": {},
   "outputs": [
    {
     "name": "stdout",
     "output_type": "stream",
     "text": [
      "Accuracy of logistic regression classifier on test set: 0.88\n"
     ]
    }
   ],
   "source": [
    "print('Accuracy of logistic regression classifier on test set: {:.2f}'.format(log_reg.score(X_test, y_test)))"
   ]
  },
  {
   "attachments": {},
   "cell_type": "markdown",
   "metadata": {},
   "source": [
    "## K-Nearest Neighbors"
   ]
  },
  {
   "cell_type": "code",
   "execution_count": 42,
   "metadata": {},
   "outputs": [
    {
     "name": "stderr",
     "output_type": "stream",
     "text": [
      "c:\\Users\\dikid\\AppData\\Local\\Programs\\Python\\Python310\\lib\\site-packages\\sklearn\\neighbors\\_classification.py:207: DataConversionWarning: A column-vector y was passed when a 1d array was expected. Please change the shape of y to (n_samples,), for example using ravel().\n",
      "  return self._fit(X, y)\n"
     ]
    }
   ],
   "source": [
    "#Membuat model K-Nearest Neighbors\n",
    "knn = KNeighborsClassifier(n_neighbors=50)\n",
    "\n",
    "# Train model menggunakan training set\n",
    "knn.fit(X_train, y_train)\n",
    "\n",
    "# Memprediksi respon/output\n",
    "y_pred1 = knn.predict(X_test)"
   ]
  },
  {
   "cell_type": "code",
   "execution_count": 43,
   "metadata": {},
   "outputs": [
    {
     "name": "stdout",
     "output_type": "stream",
     "text": [
      "[[1180   10]\n",
      " [ 151   16]]\n"
     ]
    }
   ],
   "source": [
    "#Confusion matrix\n",
    "cm1 = confusion_matrix(y_test, y_pred1)\n",
    "print(cm1)"
   ]
  },
  {
   "cell_type": "code",
   "execution_count": 44,
   "metadata": {},
   "outputs": [
    {
     "name": "stdout",
     "output_type": "stream",
     "text": [
      "Akurasi untuk K-Nearest Neighbors: 0.8813559322033898\n"
     ]
    }
   ],
   "source": [
    "#Akurasi dari K-Nearest Neighbors\n",
    "print(\"Akurasi untuk K-Nearest Neighbors:\",metrics.accuracy_score(y_test, y_pred1))"
   ]
  },
  {
   "attachments": {},
   "cell_type": "markdown",
   "metadata": {},
   "source": [
    "## Support Vector Machine"
   ]
  },
  {
   "cell_type": "code",
   "execution_count": 46,
   "metadata": {},
   "outputs": [
    {
     "name": "stderr",
     "output_type": "stream",
     "text": [
      "c:\\Users\\dikid\\AppData\\Local\\Programs\\Python\\Python310\\lib\\site-packages\\sklearn\\utils\\validation.py:1111: DataConversionWarning: A column-vector y was passed when a 1d array was expected. Please change the shape of y to (n_samples, ), for example using ravel().\n",
      "  y = column_or_1d(y, warn=True)\n"
     ]
    }
   ],
   "source": [
    "sclf = svm.SVC()\n",
    "\n",
    "sclf.fit(X_train, y_train)\n",
    "\n",
    "y_pred_svm = sclf.predict(X_test)"
   ]
  },
  {
   "cell_type": "code",
   "execution_count": 47,
   "metadata": {},
   "outputs": [
    {
     "data": {
      "text/plain": [
       "0.8769344141488578"
      ]
     },
     "execution_count": 47,
     "metadata": {},
     "output_type": "execute_result"
    }
   ],
   "source": [
    "sclf.score(X_test, y_test)"
   ]
  },
  {
   "cell_type": "code",
   "execution_count": 48,
   "metadata": {},
   "outputs": [
    {
     "name": "stdout",
     "output_type": "stream",
     "text": [
      "[[1190    0]\n",
      " [ 167    0]]\n"
     ]
    }
   ],
   "source": [
    "matrix_svm = confusion_matrix(y_test, y_pred_svm)\n",
    "print(matrix_svm)"
   ]
  },
  {
   "cell_type": "code",
   "execution_count": 49,
   "metadata": {},
   "outputs": [
    {
     "name": "stdout",
     "output_type": "stream",
     "text": [
      "Accuracy of SVM classifier on test set: 0.88\n"
     ]
    }
   ],
   "source": [
    "print('Accuracy of SVM classifier on test set: {:.2f}'.format(sclf.score(X_test, y_test)))"
   ]
  },
  {
   "attachments": {},
   "cell_type": "markdown",
   "metadata": {},
   "source": [
    "## Decision Tree "
   ]
  },
  {
   "cell_type": "code",
   "execution_count": 50,
   "metadata": {},
   "outputs": [],
   "source": [
    "dtc = DecisionTreeClassifier(criterion=\"entropy\", max_depth=5)\n",
    "\n",
    "# Train Decision Tree Classifer\n",
    "dtc = dtc.fit(X_train,y_train)\n",
    "\n",
    "# Predict the response for test dataset\n",
    "y_pred3 = dtc.predict(X_test)"
   ]
  },
  {
   "cell_type": "code",
   "execution_count": 51,
   "metadata": {},
   "outputs": [
    {
     "name": "stdout",
     "output_type": "stream",
     "text": [
      "[[1140   50]\n",
      " [  94   73]]\n"
     ]
    }
   ],
   "source": [
    "#Confusion matrix\n",
    "cm3 = confusion_matrix(y_test, y_pred3)\n",
    "print(cm3)"
   ]
  },
  {
   "cell_type": "code",
   "execution_count": 52,
   "metadata": {},
   "outputs": [
    {
     "name": "stdout",
     "output_type": "stream",
     "text": [
      "Akurasi untuk Decision Tree: 0.8938835666912307\n"
     ]
    }
   ],
   "source": [
    "#Akurasi dari Decision Tree\n",
    "print(\"Akurasi untuk Decision Tree:\",metrics.accuracy_score(y_test, y_pred3))"
   ]
  },
  {
   "attachments": {},
   "cell_type": "markdown",
   "metadata": {},
   "source": [
    "## Random Forest "
   ]
  },
  {
   "cell_type": "code",
   "execution_count": 53,
   "metadata": {},
   "outputs": [
    {
     "name": "stderr",
     "output_type": "stream",
     "text": [
      "C:\\Users\\dikid\\AppData\\Local\\Temp\\ipykernel_21904\\3056969685.py:3: DataConversionWarning: A column-vector y was passed when a 1d array was expected. Please change the shape of y to (n_samples,), for example using ravel().\n",
      "  clf.fit(X_train, y_train)\n"
     ]
    }
   ],
   "source": [
    "clf = RandomForestClassifier(n_estimators=100)\n",
    "\n",
    "clf.fit(X_train, y_train)\n",
    "\n",
    "y_pred_clf = clf.predict(X_test)"
   ]
  },
  {
   "cell_type": "code",
   "execution_count": 54,
   "metadata": {},
   "outputs": [
    {
     "data": {
      "text/plain": [
       "0.8865143699336773"
      ]
     },
     "execution_count": 54,
     "metadata": {},
     "output_type": "execute_result"
    }
   ],
   "source": [
    "clf.score(X_test, y_test)"
   ]
  },
  {
   "cell_type": "code",
   "execution_count": 55,
   "metadata": {},
   "outputs": [
    {
     "name": "stdout",
     "output_type": "stream",
     "text": [
      "[[1162   28]\n",
      " [ 126   41]]\n"
     ]
    }
   ],
   "source": [
    "matrix_clf = confusion_matrix(y_test, y_pred_clf)\n",
    "print(matrix_clf)"
   ]
  },
  {
   "cell_type": "code",
   "execution_count": 56,
   "metadata": {},
   "outputs": [
    {
     "name": "stdout",
     "output_type": "stream",
     "text": [
      "Accuracy of random forest classifier on test set: 0.89\n"
     ]
    }
   ],
   "source": [
    "print('Accuracy of random forest classifier on test set: {:.2f}'.format(clf.score(X_test, y_test)))"
   ]
  },
  {
   "attachments": {},
   "cell_type": "markdown",
   "metadata": {},
   "source": [
    "## Naive Bayes"
   ]
  },
  {
   "cell_type": "code",
   "execution_count": 57,
   "metadata": {},
   "outputs": [
    {
     "name": "stderr",
     "output_type": "stream",
     "text": [
      "c:\\Users\\dikid\\AppData\\Local\\Programs\\Python\\Python310\\lib\\site-packages\\sklearn\\utils\\validation.py:1111: DataConversionWarning: A column-vector y was passed when a 1d array was expected. Please change the shape of y to (n_samples, ), for example using ravel().\n",
      "  y = column_or_1d(y, warn=True)\n"
     ]
    }
   ],
   "source": [
    "# Create a Gaussian Classifier\n",
    "gnb = GaussianNB()\n",
    "\n",
    "# Train the model using the training sets\n",
    "gnb.fit(X_train, y_train)\n",
    "\n",
    "# Predict the response for test dataset\n",
    "y_pred5 = gnb.predict(X_test)"
   ]
  },
  {
   "cell_type": "code",
   "execution_count": 58,
   "metadata": {},
   "outputs": [
    {
     "name": "stdout",
     "output_type": "stream",
     "text": [
      "[[1040  150]\n",
      " [  83   84]]\n"
     ]
    }
   ],
   "source": [
    "#Confusion Matrix\n",
    "cm5 = confusion_matrix(y_test, y_pred5)\n",
    "print(cm5)"
   ]
  },
  {
   "cell_type": "code",
   "execution_count": 59,
   "metadata": {},
   "outputs": [
    {
     "name": "stdout",
     "output_type": "stream",
     "text": [
      "Akurasi untuk Naive Bayes: 0.8282977155490051\n"
     ]
    }
   ],
   "source": [
    "#Akurasi dari Naive Bayes\n",
    "print(\"Akurasi untuk Naive Bayes:\",metrics.accuracy_score(y_test, y_pred5))"
   ]
  },
  {
   "attachments": {},
   "cell_type": "markdown",
   "metadata": {},
   "source": [
    "## All Models classifier Evaluation"
   ]
  },
  {
   "cell_type": "code",
   "execution_count": 61,
   "metadata": {},
   "outputs": [
    {
     "name": "stdout",
     "output_type": "stream",
     "text": [
      "Accuracy of logistic regression : 0.88\n",
      "Accuracy of KNN : 0.88\n",
      "Accuracy of decision tree : 0.89\n",
      "Accuracy of random forest : 0.89\n",
      "Accuracy of naive bayes : 0.83\n",
      "Accuracy of SVM : 0.88\n"
     ]
    }
   ],
   "source": [
    "print('Accuracy of logistic regression : {:.2f}'.format(log_reg.score(X_test, y_test)))\n",
    "print('Accuracy of KNN : {:.2f}'.format(knn.score(X_test, y_test)))\n",
    "print('Accuracy of decision tree : {:.2f}'.format(dtc.score(X_test, y_test)))\n",
    "print('Accuracy of random forest : {:.2f}'.format(clf.score(X_test, y_test)))\n",
    "print('Accuracy of naive bayes : {:.2f}'.format(gnb.score(X_test, y_test)))\n",
    "print('Accuracy of SVM : {:.2f}'.format(sclf.score(X_test, y_test)))"
   ]
  },
  {
   "attachments": {},
   "cell_type": "markdown",
   "metadata": {},
   "source": [
    "## Conclusion\n",
    "\n",
    "Dari data hasil analisa diatas didapatkan 2 algoritma dengan akurasi tertinggi yaitu 'decision tree' dan 'random forest', dikarenakan  untuk memprediksi data berupa nasabah bank dengan dibutuhkannya akurasi tinggi maka 2 algoritma tersebut sangat cocok untuk digunakan dalam data diatas"
   ]
  }
 ],
 "metadata": {
  "kernelspec": {
   "display_name": "Python 3",
   "language": "python",
   "name": "python3"
  },
  "language_info": {
   "codemirror_mode": {
    "name": "ipython",
    "version": 3
   },
   "file_extension": ".py",
   "mimetype": "text/x-python",
   "name": "python",
   "nbconvert_exporter": "python",
   "pygments_lexer": "ipython3",
   "version": "3.10.6"
  },
  "orig_nbformat": 4,
  "vscode": {
   "interpreter": {
    "hash": "f03bb488fe3f3291c38a71d96608726b0e37bd98f63ebe86f9a48d504966dff6"
   }
  }
 },
 "nbformat": 4,
 "nbformat_minor": 2
}
